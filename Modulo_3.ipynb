{
  "nbformat": 4,
  "nbformat_minor": 0,
  "metadata": {
    "colab": {
      "provenance": [],
      "collapsed_sections": [],
      "authorship_tag": "ABX9TyNHbhuHQjo1nwc3zfRYJjo2",
      "include_colab_link": true
    },
    "kernelspec": {
      "name": "python3",
      "display_name": "Python 3"
    },
    "language_info": {
      "name": "python"
    }
  },
  "cells": [
    {
      "cell_type": "markdown",
      "metadata": {
        "id": "view-in-github",
        "colab_type": "text"
      },
      "source": [
        "<a href=\"https://colab.research.google.com/github/PosgradoMNA/actividades-de-aprendizaje-eddieelorza/blob/main/Modulo_3.ipynb\" target=\"_parent\"><img src=\"https://colab.research.google.com/assets/colab-badge.svg\" alt=\"Open In Colab\"/></a>"
      ]
    },
    {
      "cell_type": "markdown",
      "source": [
        "#**MODULO 3**"
      ],
      "metadata": {
        "id": "qY1fpve6-PE1"
      }
    },
    {
      "cell_type": "markdown",
      "source": [
        "# **Conditions**"
      ],
      "metadata": {
        "id": "QXrn9Mw7aJ3C"
      }
    },
    {
      "cell_type": "markdown",
      "source": [
        "**Comparison Operators**\n",
        "1. equal: ==\n",
        "1.   not equal: !=\n",
        "2.   not equal: !=\n",
        "3.   not equal: !=\n",
        "4.   less than: <\n",
        "5.   greater than or equal to: >=\n",
        "6.   less than or equal to: <="
      ],
      "metadata": {
        "id": "5Vf6FtWfaTES"
      }
    },
    {
      "cell_type": "markdown",
      "source": [
        "**Comparison Operations**"
      ],
      "metadata": {
        "id": "M9ZH0IzFYi4z"
      }
    },
    {
      "cell_type": "code",
      "execution_count": 4,
      "metadata": {
        "id": "mGNDly6s-J_p",
        "outputId": "e548eee7-d709-44d6-caf1-5f7fc8f67c54",
        "colab": {
          "base_uri": "https://localhost:8080/"
        }
      },
      "outputs": [
        {
          "output_type": "execute_result",
          "data": {
            "text/plain": [
              "True"
            ]
          },
          "metadata": {},
          "execution_count": 4
        }
      ],
      "source": [
        "#Find the value of i that produces a True:\n",
        "i=-100000000\n",
        "i!=0"
      ]
    },
    {
      "cell_type": "markdown",
      "source": [
        "**Branching**"
      ],
      "metadata": {
        "id": "Gsg2J3CBYtNv"
      }
    },
    {
      "cell_type": "markdown",
      "source": [
        " nos permite ejecutar diferentes declaraciones para diferentes entradas. Es útil pensar en una declaración if como una habitación cerrada, si la declaración es verdadera, podemos ingresar a la habitación y su programa ejecutará algunas tareas predefinidas, pero si la declaración es falsa, el programa ignorará la tarea."
      ],
      "metadata": {
        "id": "0YZeqoY9blIW"
      }
    },
    {
      "cell_type": "code",
      "source": [
        "#Find the value of x that prints the statement \"this is a\":\n",
        "x = \"a\"\n",
        "if(x=='a'):\n",
        "    print(\"this is a\")\n",
        "else:\n",
        "    print(\"this is  not a\")"
      ],
      "metadata": {
        "id": "UyAzWBFCYqSq",
        "outputId": "0e5f26ae-63bd-44df-c05a-b1cb0f35e08a",
        "colab": {
          "base_uri": "https://localhost:8080/"
        }
      },
      "execution_count": 1,
      "outputs": [
        {
          "output_type": "stream",
          "name": "stdout",
          "text": [
            "this is a\n"
          ]
        }
      ]
    },
    {
      "cell_type": "code",
      "source": [
        "# Else statement example\n",
        "\n",
        "age = 18\n",
        "# age = 19\n",
        "\n",
        "if age > 18:\n",
        "    print(\"you can enter\" )\n",
        "else:\n",
        "    print(\"go see Meat Loaf\" )\n",
        "    \n",
        "print(\"move on\")"
      ],
      "metadata": {
        "id": "uo96QYlrbRkZ",
        "outputId": "4a3f866d-0951-455b-e8db-aa16d373aeba",
        "colab": {
          "base_uri": "https://localhost:8080/"
        }
      },
      "execution_count": 11,
      "outputs": [
        {
          "output_type": "stream",
          "name": "stdout",
          "text": [
            "go see Meat Loaf\n",
            "move on\n"
          ]
        }
      ]
    },
    {
      "cell_type": "code",
      "source": [
        "# Elif statment example\n",
        "\n",
        "age = 18\n",
        "\n",
        "if age > 18:\n",
        "    print(\"you can enter\" )\n",
        "elif age == 18:\n",
        "    print(\"go see Pink Floyd\")\n",
        "else:\n",
        "    print(\"go see Meat Loaf\" )\n",
        "    \n",
        "print(\"move on\")"
      ],
      "metadata": {
        "id": "XFDFmHBqb40K",
        "outputId": "291a534b-fdf2-4e05-fcab-a23eba28fc9f",
        "colab": {
          "base_uri": "https://localhost:8080/"
        }
      },
      "execution_count": 12,
      "outputs": [
        {
          "output_type": "stream",
          "name": "stdout",
          "text": [
            "go see Pink Floyd\n",
            "move on\n"
          ]
        }
      ]
    },
    {
      "cell_type": "code",
      "source": [
        "# Condition statement example\n",
        "\n",
        "album_year = 1983\n",
        "#album_year = 1970\n",
        "\n",
        "if album_year > 1980:\n",
        "    print(\"Album year is greater than 1980\")\n",
        "else:\n",
        "    print(\"less than 1980\")\n",
        "\n",
        "print('do something..')"
      ],
      "metadata": {
        "id": "HH71St0zcU8t",
        "outputId": "89661885-95de-4e7f-9f83-9028d4898602",
        "colab": {
          "base_uri": "https://localhost:8080/"
        }
      },
      "execution_count": 13,
      "outputs": [
        {
          "output_type": "stream",
          "name": "stdout",
          "text": [
            "Album year is greater than 1980\n",
            "do something..\n"
          ]
        }
      ]
    },
    {
      "cell_type": "markdown",
      "source": [
        "**Logic Operators**"
      ],
      "metadata": {
        "id": "jKJ9JWZFY_0O"
      }
    },
    {
      "cell_type": "code",
      "source": [
        "#Find the value of y that produces a True statement:\n",
        "y=3\n",
        "x=1\n",
        "x>0 and y<10"
      ],
      "metadata": {
        "id": "_teOI6ojY_gB",
        "outputId": "6872fc61-6c0e-4bbe-879d-4d5711ff9e1a",
        "colab": {
          "base_uri": "https://localhost:8080/"
        }
      },
      "execution_count": 2,
      "outputs": [
        {
          "output_type": "execute_result",
          "data": {
            "text/plain": [
              "True"
            ]
          },
          "metadata": {},
          "execution_count": 2
        }
      ]
    },
    {
      "cell_type": "code",
      "source": [
        "# Condition Equal\n",
        "\n",
        "a = 5\n",
        "a == 6"
      ],
      "metadata": {
        "id": "KzpgGY_9a3Yq",
        "outputId": "1c30a59c-d48e-4321-8044-f3f3838024ab",
        "colab": {
          "base_uri": "https://localhost:8080/"
        }
      },
      "execution_count": 5,
      "outputs": [
        {
          "output_type": "execute_result",
          "data": {
            "text/plain": [
              "False"
            ]
          },
          "metadata": {},
          "execution_count": 5
        }
      ]
    },
    {
      "cell_type": "code",
      "source": [
        "# Greater than Sign\n",
        "\n",
        "i = 6\n",
        "i > 5"
      ],
      "metadata": {
        "id": "XhE2mg3Ta4Sj",
        "outputId": "53d41d08-92ac-49dc-c43d-9b796c83723a",
        "colab": {
          "base_uri": "https://localhost:8080/"
        }
      },
      "execution_count": 6,
      "outputs": [
        {
          "output_type": "execute_result",
          "data": {
            "text/plain": [
              "True"
            ]
          },
          "metadata": {},
          "execution_count": 6
        }
      ]
    },
    {
      "cell_type": "code",
      "source": [
        "# Inequality Sign\n",
        "\n",
        "i = 2\n",
        "i != 6"
      ],
      "metadata": {
        "id": "tvaSfoWfa4IZ",
        "outputId": "23965688-afc8-4353-e9f5-264a52cf3322",
        "colab": {
          "base_uri": "https://localhost:8080/"
        }
      },
      "execution_count": 7,
      "outputs": [
        {
          "output_type": "execute_result",
          "data": {
            "text/plain": [
              "True"
            ]
          },
          "metadata": {},
          "execution_count": 7
        }
      ]
    },
    {
      "cell_type": "code",
      "source": [
        "# Use Equality sign to compare the strings\n",
        "\n",
        "\"ACDC\" == \"Michael Jackson\""
      ],
      "metadata": {
        "id": "B3FzWSo9bDkf",
        "outputId": "ed01a872-ad82-4414-97f5-3b7890d57d11",
        "colab": {
          "base_uri": "https://localhost:8080/"
        }
      },
      "execution_count": 8,
      "outputs": [
        {
          "output_type": "execute_result",
          "data": {
            "text/plain": [
              "False"
            ]
          },
          "metadata": {},
          "execution_count": 8
        }
      ]
    },
    {
      "cell_type": "code",
      "source": [
        "# Use Inequality sign to compare the strings\n",
        "\n",
        "\"ACDC\" != \"Michael Jackson\""
      ],
      "metadata": {
        "id": "Pwe-CksZbDhP",
        "outputId": "268d11a6-933d-4e19-9b89-629f31d29aac",
        "colab": {
          "base_uri": "https://localhost:8080/"
        }
      },
      "execution_count": 9,
      "outputs": [
        {
          "output_type": "execute_result",
          "data": {
            "text/plain": [
              "True"
            ]
          },
          "metadata": {},
          "execution_count": 9
        }
      ]
    },
    {
      "cell_type": "code",
      "source": [
        "# Compare characters\n",
        "\n",
        "'B' > 'A'"
      ],
      "metadata": {
        "id": "-E5nQocMbLFn",
        "outputId": "8c6b917a-1d73-4068-b229-8a3a45136853",
        "colab": {
          "base_uri": "https://localhost:8080/"
        }
      },
      "execution_count": 10,
      "outputs": [
        {
          "output_type": "execute_result",
          "data": {
            "text/plain": [
              "True"
            ]
          },
          "metadata": {},
          "execution_count": 10
        }
      ]
    },
    {
      "cell_type": "markdown",
      "source": [
        "**Logical operators**\n",
        "1. and\n",
        "2. or\n",
        "3. not"
      ],
      "metadata": {
        "id": "PTloZl6ncWth"
      }
    },
    {
      "cell_type": "code",
      "source": [],
      "metadata": {
        "id": "MoUfKD_mceK4"
      },
      "execution_count": null,
      "outputs": []
    }
  ]
}