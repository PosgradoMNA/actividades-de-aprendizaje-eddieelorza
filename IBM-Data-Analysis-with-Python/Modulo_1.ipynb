{
  "cells": [
    {
      "cell_type": "markdown",
      "metadata": {
        "id": "UF7C6SXm3Wu0"
      },
      "source": [
        "\n",
        "# **MODULO 1**\n"
      ]
    },
    {
      "cell_type": "markdown",
      "source": [
        "#**Why Data Analysis?**\n",
        "* Data is everywhere\n",
        "* Data Analysis/Data Science helps us answer questions from data.\n",
        "* Data analysis plays an importan role in: \n",
        " * Discovering useful information\n",
        " * Anwering questions\n",
        " * Predicting future or the unknown\n",
        "\n",
        "#**Understanding the Data**\n",
        "#**Scientifics Computing Libraries in Python**\n",
        "* Pandas (Data scructures & tools)\n",
        "* NumPy (Arrays & matrices)\n",
        "* SciPy (Integrals, solving differential equations, optimization)\n",
        "\n",
        "#**Visualitation Libraries in Python**\n",
        "* Matplotlib (plots & graphs, most popular)\n",
        "* Seaborn (plots: heat maps, time series, violin plots)\n",
        "\n",
        "#**Algorithmic Libraries in Python**\n",
        "* Scikit-learn (Machine Learnning: regression, classification,...)\n",
        "* Statsmodels (Explore data, estimate statistical models, and perform statistical tests.)\n",
        "\n",
        "\n",
        "\n",
        "\n"
      ],
      "metadata": {
        "id": "IrG6_sMs6G_9"
      }
    },
    {
      "cell_type": "markdown",
      "source": [
        "<h1 id=\"data_acquisition\">Data Acquisition</h1>\n",
        "<p>\n",
        "There are various formats for a dataset: .csv, .json, .xlsx  etc. The dataset can be stored in different places, on your local machine or sometimes online.<br>\n",
        "\n",
        "In this section, you will learn how to load a dataset into our Jupyter Notebook.<br>\n",
        "\n",
        "In our case, the Automobile Dataset is an online source, and it is in a CSV (comma separated value) format. Let's use this dataset as an example to practice data reading.\n",
        "\n",
        "<ul>\n",
        "    <li>Data source: <a href=\"https://archive.ics.uci.edu/ml/machine-learning-databases/autos/imports-85.data?utm_medium=Exinfluencer&utm_source=Exinfluencer&utm_content=000026UJ&utm_term=10006555&utm_id=NA-SkillsNetwork-Channel-SkillsNetworkCoursesIBMDeveloperSkillsNetworkDA0101ENSkillsNetwork20235326-2021-01-01\" target=\"_blank\">https://archive.ics.uci.edu/ml/machine-learning-databases/autos/imports-85.data</a></li>\n",
        "    <li>Data type: csv</li>\n",
        "</ul>\n",
        "The Pandas Library is a useful tool that enables us to read various datasets into a dataframe; our Jupyter notebook platforms have a built-in <b>Pandas Library</b> so that all we need to do is import Pandas without installing.\n",
        "</p>"
      ],
      "metadata": {
        "id": "-Sj0cKM1-I_j"
      }
    },
    {
      "cell_type": "code",
      "source": [
        "# import pandas library\n",
        "import pandas as pd\n",
        "import numpy as np"
      ],
      "metadata": {
        "id": "SJnPlMYO-Tzz"
      },
      "execution_count": null,
      "outputs": []
    }
  ],
  "metadata": {
    "kernelspec": {
      "display_name": "Python 3.10.2 64-bit",
      "language": "python",
      "name": "python3"
    },
    "language_info": {
      "name": "python",
      "version": "3.10.2"
    },
    "orig_nbformat": 4,
    "vscode": {
      "interpreter": {
        "hash": "aee8b7b246df8f9039afb4144a1f6fd8d2ca17a180786b69acc140d282b71a49"
      }
    },
    "colab": {
      "provenance": []
    }
  },
  "nbformat": 4,
  "nbformat_minor": 0
}