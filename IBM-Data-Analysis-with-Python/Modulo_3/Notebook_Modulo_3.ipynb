{
  "cells": [
    {
      "cell_type": "markdown",
      "metadata": {
        "id": "44F_n3YbFWUg"
      },
      "source": [
        "# **MODULO 3** | Data Analysis with Python (IBM)"
      ]
    },
    {
      "cell_type": "markdown",
      "metadata": {
        "id": "7reYR8xfFWUk"
      },
      "source": [
        "**EDDIE G. ELORZA RUIZ | A01793547**\n",
        "\n",
        ">Materia: Ciencia y analítica de datos (Gpo 10)\n",
        "\n",
        ">Profesor Titular: Jobish Vallikavungal\n",
        "\n",
        ">Profesor Tutor: Victoria Guerrero Orozco\n",
        "\n",
        "> Fecha: -"
      ]
    },
    {
      "cell_type": "markdown",
      "source": [
        "# **Exploratory Data Analysis**\n",
        "Paso preliminar en el análisis de datos para:\n",
        "* Resumir las principales características de los datos\n",
        "* Obtenga una mejor comprensión del conjunto de datos\n",
        "* Descubrir relaciones entre variables\n",
        "* Extraer variables importantes\n",
        "\n"
      ],
      "metadata": {
        "id": "BOJBAvdgFckf"
      }
    },
    {
      "cell_type": "markdown",
      "source": [
        "# **Descriptive Statistics**\n",
        "\n",
        "Primero echemos un vistazo a las variables utilizando un método de descripción.\n",
        "\n",
        "> La función describe calcula automáticamente estadísticas básicas para todas las variables continuas. Cualquier valor de NaN se omite automáticamente en estas estadísticas.\n",
        "\n",
        "Esto mostrará:\n",
        "\n",
        "* El conteo de esa variable\n",
        "* El significado\n",
        "* La desviación estándar (std)\n",
        "* El valor mínimo\n",
        "* El IQR (Rango Intercuartílico: 25%, 50% y 75%)\n",
        "* El valor máximo\n",
        "\n",
        "\n",
        "\n",
        "```\n",
        "df.describe()\n",
        "```\n",
        "\n",
        "# **Value Counts**\n",
        "\n",
        "Value Counts es una buena manera de entender cuántas unidades de cada característica/variable tenemos. Podemos aplicar el método \"value_counts\" en la columna \"drive-wheels\". No olvide que el método \"value_counts\" solo funciona en series de pandas, no en marcos de datos de pandas. Como resultado, solo incluimos un corchete df['drive-wheels'], no dos corchetes df[['drive-wheels']].\n",
        "\n",
        "\n",
        "\n",
        "```\n",
        "df['drive-wheels'].value_counts()\n",
        "\n",
        "```\n",
        "\n",
        "# **Box Plots**\n",
        "Un diagrama de caja , también conocido como diagrama de bigotes, se crea para mostrar el resumen del conjunto de valores de datos que tienen propiedades como mínimo, primer cuartil, mediana, tercer cuartil y máximo.\n",
        "\n",
        "<img src=\"https://media.geeksforgeeks.org/wp-content/uploads/20200427003346/plot29.png\" width=\"430\" bg-color=\"FFFFFF\" />\n",
        "\n",
        "# **Scatter Plot**\n",
        "Los diagramas de dispersión se utilizan para observar la relación entre las variables y utilizan puntos para representar la relación entre ellas. El método scatter() en la biblioteca matplotlib se usa para dibujar un diagrama de dispersión. Los diagramas de dispersión se usan ampliamente para representar la relación entre variables y cómo el cambio en uno afecta al otro. \n",
        "\n",
        "<img src=\"https://media.geeksforgeeks.org/wp-content/uploads/20200326163728/1406-3.png\" width=\"430\" bg-color=\"FFFFFF\" />\n"
      ],
      "metadata": {
        "id": "--zW0qmCHRDC"
      }
    },
    {
      "cell_type": "markdown",
      "source": [
        "# **GroupBy in Python**\n",
        "\n",
        "La función Pandas dataframe.groupby()se utiliza para dividir los datos en grupos según algunos criterios. Los objetos pandas se pueden dividir en cualquiera de sus ejes. La definición abstracta de agrupación es proporcionar una asignación de etiquetas a nombres de grupos.\n",
        "\n",
        "**PIVOT**\n",
        "\n",
        "Estos datos agrupados son mucho más fáciles de visualizar cuando se convierten en una tabla \"pivot\". Una tabla dinámica es como una hoja de cálculo de Excel, con una variable a lo largo de la columna y otra a lo largo de la fila. Podemos convertir el marco de datos en una tabla dinámica usando el método \"pivot\" para crear una tabla dinámica a partir de los grupos.\n",
        "\n",
        "En este caso, dejaremos la variable drive-wheels como las filas de la tabla y pivotaremos el estilo del cuerpo para que se convierta en las columnas de la tabla:\n",
        "\n",
        "```\n",
        "grouped_pivot = grouped_test1.pivot(index='drive-wheels',columns='body-style')\n",
        "grouped_pivot\n",
        "```\n",
        "\n",
        "A menudo, no tendremos datos para algunas de las celdas dinámicas. Podemos llenar estas celdas que faltan con el valor 0, pero también se podría usar cualquier otro valor. Cabe mencionar que la falta de datos es un tema bastante complejo y es un curso completo por sí solo.\n",
        "\n",
        "\n",
        "```\n",
        "grouped_pivot = grouped_pivot.fillna(0) #fill missing values with 0\n",
        "grouped_pivot\n",
        "```\n",
        "\n",
        "**HEATMAP**\n",
        "\n",
        "El mapa de calor traza la variable objetivo (precio) proporcional al color con respecto a las variables 'rueda motriz' y 'estilo de carrocería' en el eje vertical y horizontal, respectivamente. Esto nos permite visualizar cómo se relaciona el precio con la 'rueda motriz' y el 'estilo de la carrocería'.\n",
        "\n",
        "Las etiquetas predeterminadas no nos transmiten información útil. Cambiemos eso:\n",
        "\n",
        "\n",
        "\n",
        "```\n",
        "fig, ax = plt.subplots()\n",
        "im = ax.pcolor(grouped_pivot, cmap='RdBu')\n",
        "\n",
        "#label names\n",
        "row_labels = grouped_pivot.columns.levels[1]\n",
        "col_labels = grouped_pivot.index\n",
        "\n",
        "#move ticks and labels to the center\n",
        "ax.set_xticks(np.arange(grouped_pivot.shape[1]) + 0.5, minor=False)\n",
        "ax.set_yticks(np.arange(grouped_pivot.shape[0]) + 0.5, minor=False)\n",
        "\n",
        "#insert labels\n",
        "ax.set_xticklabels(row_labels, minor=False)\n",
        "ax.set_yticklabels(col_labels, minor=False)\n",
        "\n",
        "#rotate label if too long\n",
        "plt.xticks(rotation=90)\n",
        "\n",
        "fig.colorbar(im)\n",
        "plt.show()\n",
        "```\n",
        "\n",
        "La visualización es muy importante en la ciencia de datos, y los paquetes de visualización de Python brindan una gran libertad. Profundizaremos más en un curso separado de visualizaciones de Python.\n",
        "\n",
        "\n",
        "\n",
        "\n"
      ],
      "metadata": {
        "id": "qYvPslJzKZe6"
      }
    },
    {
      "cell_type": "markdown",
      "source": [
        "# **Analysis of Variance ANOVA**\n",
        "El Análisis de Varianza (ANOVA) es un método estadístico utilizado para probar si existen diferencias significativas entre las medias de dos o más grupos. ANOVA devuelve dos parámetros:\n",
        "\n",
        "* Prueba ANOVA utilizada para comparar las medias de más de 2 grupos (la prueba t o la prueba Z se pueden usar para comparar 2 grupos)\n",
        "\n",
        "* Diferencias de medias de grupos inferidas mediante el análisis de varianzas\n",
        "\n",
        "* ANOVA utiliza la prueba F basada en la varianza para verificar la igualdad de la media del grupo.\n",
        " \n",
        "* A veces, la prueba ANOVA F también se denomina prueba ómnibus, ya que prueba hipótesis nulas no específicas, es decir, todas las medias de los grupos son iguales.\n",
        "\n",
        "* Tipos principales: ANOVA de una vía (un factor) y de dos vías (dos factores) (el factor es una variable independiente)\n",
        "\n",
        "\n",
        "**F-test score:** ANOVA asume que las medias de todos los grupos son iguales, calcula cuánto se desvían las medias reales de la suposición y lo informa como la puntuación de la prueba F. Una puntuación mayor significa que hay una diferencia mayor entre las medias.\n",
        "\n",
        "**P-value:** el valor P indica cuán estadísticamente significativo es nuestro valor de puntaje calculado."
      ],
      "metadata": {
        "id": "Ucc92aVhMt9g"
      }
    },
    {
      "cell_type": "markdown",
      "source": [
        "# **Correlation**\n",
        "\n",
        "Correlación: una medida del grado de interdependencia entre variables.\n",
        "\n",
        "Causalidad: la relación entre causa y efecto entre dos variables.\n",
        "\n",
        "Es importante saber la diferencia entre estos dos. La correlación no implica causa. Determinar la correlación es mucho más simple que determinar la causalidad, ya que la causalidad puede requerir una experimentación independiente.\n",
        "\n",
        "correlación de Pearson\n",
        "\n",
        "La Correlación de Pearson mide la dependencia lineal entre dos variables X e Y.\n",
        "\n",
        "El coeficiente resultante es un valor entre -1 y 1 inclusive, donde:\n",
        "\n",
        "1: Correlación lineal positiva perfecta.\n",
        "0: Sin correlación lineal, lo más probable es que las dos variables no se afecten entre sí.\n",
        "-1: Correlación lineal negativa perfecta."
      ],
      "metadata": {
        "id": "21p1aRhXNnwE"
      }
    },
    {
      "cell_type": "markdown",
      "source": [
        "# **LABORATORY**"
      ],
      "metadata": {
        "id": "aIA0nyiSOiGd"
      }
    },
    {
      "cell_type": "markdown",
      "source": [
        "<div class=\"alert alert-danger alertdanger\" style=\"margin-top: 20px\">\n",
        "<h3>Question  #1:</h3>\n",
        "\n",
        "<b>What is the data type of the column \"peak-rpm\"? </b>\n",
        "\n",
        "</div>\n"
      ],
      "metadata": {
        "id": "EGjV59S5N4tc"
      }
    },
    {
      "cell_type": "code",
      "source": [
        "df['peak-rpm'].dtypes"
      ],
      "metadata": {
        "id": "MUe3T7HLILOz"
      },
      "execution_count": null,
      "outputs": []
    },
    {
      "cell_type": "markdown",
      "source": [
        "<div class=\"alert alert-danger alertdanger\" style=\"margin-top: 20px\">\n",
        "<h3> Question  #2: </h3>\n",
        "\n",
        "<p>Find the correlation between the following columns: bore, stroke, compression-ratio, and horsepower.</p>\n",
        "<p>Hint: if you would like to select those columns, use the following syntax: df[['bore','stroke','compression-ratio','horsepower']]</p>\n",
        "</div>"
      ],
      "metadata": {
        "id": "m2qEvpiIN-V2"
      }
    },
    {
      "cell_type": "code",
      "source": [
        "df[['bore', 'stroke', 'compression-ratio', 'horsepower']].corr()"
      ],
      "metadata": {
        "id": "JN_aLA06OCDR"
      },
      "execution_count": null,
      "outputs": []
    },
    {
      "cell_type": "markdown",
      "source": [
        " <div class=\"alert alert-danger alertdanger\" style=\"margin-top: 20px\">\n",
        "<h1> Question  3 a): </h1>\n",
        "\n",
        "<p>Find the correlation  between x=\"stroke\" and y=\"price\".</p>\n",
        "<p>Hint: if you would like to select those columns, use the following syntax: df[[\"stroke\",\"price\"]].  </p>\n",
        "</div>\n"
      ],
      "metadata": {
        "id": "otHJKmDhOGHh"
      }
    },
    {
      "cell_type": "code",
      "source": [
        " df[[\"stroke\",\"price\"]].corr()"
      ],
      "metadata": {
        "id": "P_ay1Df0OLwt"
      },
      "execution_count": null,
      "outputs": []
    },
    {
      "cell_type": "markdown",
      "source": [
        "<div class=\"alert alert-danger alertdanger\" style=\"margin-top: 20px\">\n",
        "<h1>Question  3 b):</h1>\n",
        "\n",
        "<p>Given the correlation results between \"price\" and \"stroke\", do you expect a linear relationship?</p> \n",
        "<p>Verify your results using the function \"regplot()\".</p>\n",
        "</div>"
      ],
      "metadata": {
        "id": "5hjm1yscOPDH"
      }
    },
    {
      "cell_type": "code",
      "source": [
        "sns.regplot(x=\"stroke\", y=\"price\", data=df)"
      ],
      "metadata": {
        "id": "htz2UTESORvx"
      },
      "execution_count": null,
      "outputs": []
    },
    {
      "cell_type": "markdown",
      "source": [
        "<div class=\"alert alert-danger alertdanger\" style=\"margin-top: 20px\">\n",
        "<h1>Question 4:</h1>\n",
        "\n",
        "<p>Use the \"groupby\" function to find the average \"price\" of each car based on \"body-style\".</p>\n",
        "</div>\n"
      ],
      "metadata": {
        "id": "Cw_X2o_oOXX7"
      }
    },
    {
      "cell_type": "code",
      "source": [
        "df_gptest2 = df[['body-style','price']]\n",
        "grouped_test_bodystyle = df_gptest2.groupby(['body-style'],as_index= False).mean()\n",
        "grouped_test_bodystyle"
      ],
      "metadata": {
        "id": "GxMdRL27Oar7"
      },
      "execution_count": null,
      "outputs": []
    }
  ],
  "metadata": {
    "kernelspec": {
      "display_name": "Python 3.10.2 64-bit",
      "language": "python",
      "name": "python3"
    },
    "language_info": {
      "name": "python",
      "version": "3.10.2"
    },
    "orig_nbformat": 4,
    "vscode": {
      "interpreter": {
        "hash": "aee8b7b246df8f9039afb4144a1f6fd8d2ca17a180786b69acc140d282b71a49"
      }
    },
    "colab": {
      "provenance": []
    }
  },
  "nbformat": 4,
  "nbformat_minor": 0
}