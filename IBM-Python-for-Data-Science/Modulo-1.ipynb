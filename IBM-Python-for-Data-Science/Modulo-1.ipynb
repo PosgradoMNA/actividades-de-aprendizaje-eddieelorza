{
  "cells": [
    {
      "cell_type": "markdown",
      "metadata": {
        "colab_type": "text",
        "id": "view-in-github"
      },
      "source": [
        "<a href=\"https://colab.research.google.com/github/PosgradoMNA/actividades-de-aprendizaje-eddieelorza/blob/main/Modulo-1.ipynb\" target=\"_parent\"><img src=\"https://colab.research.google.com/assets/colab-badge.svg\" alt=\"Open In Colab\"/></a>"
      ]
    },
    {
      "cell_type": "markdown",
      "metadata": {
        "id": "v1sz3YOrqTWW"
      },
      "source": [
        "\n",
        "\n",
        "## **MODULO 1**\n",
        "# Writing Your First Python Code\n",
        "\n"
      ]
    },
    {
      "cell_type": "markdown",
      "metadata": {},
      "source": [
        "Eddie Guadalupe Elorza Ruiz | A01793547"
      ]
    },
    {
      "cell_type": "code",
      "execution_count": 5,
      "metadata": {
        "colab": {
          "base_uri": "https://localhost:8080/"
        },
        "id": "_197GwQnu64q",
        "outputId": "4fa86475-79c7-4bb9-98ce-b0070556de43"
      },
      "outputs": [
        {
          "name": "stdout",
          "output_type": "stream",
          "text": [
            "3.7.13 (default, Apr 24 2022, 01:04:09) \n",
            "[GCC 7.5.0]\n"
          ]
        }
      ],
      "source": [
        "# Check the Python Version\n",
        "\n",
        "import sys\n",
        "print(sys.version)"
      ]
    },
    {
      "cell_type": "code",
      "execution_count": 4,
      "metadata": {
        "colab": {
          "base_uri": "https://localhost:8080/"
        },
        "id": "TEicv71bqXKm",
        "outputId": "82d16f78-20ee-42c1-c4b1-0fbc30cec486"
      },
      "outputs": [
        {
          "name": "stdout",
          "output_type": "stream",
          "text": [
            "Hello, Python!\n"
          ]
        }
      ],
      "source": [
        "print(\"Hello, Python!\")\n",
        "# Practice on writing comments"
      ]
    },
    {
      "cell_type": "code",
      "execution_count": 20,
      "metadata": {
        "colab": {
          "base_uri": "https://localhost:8080/"
        },
        "id": "ABqqxhSI0Zfh",
        "outputId": "af299494-1cd5-4920-8bb6-7cd1fae45865"
      },
      "outputs": [
        {
          "name": "stdout",
          "output_type": "stream",
          "text": [
            "Hi\n"
          ]
        }
      ],
      "source": [
        "# print('Hi')\n",
        "print('Hi')"
      ]
    },
    {
      "cell_type": "code",
      "execution_count": 21,
      "metadata": {
        "colab": {
          "base_uri": "https://localhost:8080/",
          "height": 200
        },
        "id": "_mk7fnvC0i4V",
        "outputId": "79bed12c-834f-4e18-e079-3ef1c9a31246"
      },
      "outputs": [
        {
          "ename": "NameError",
          "evalue": "ignored",
          "output_type": "error",
          "traceback": [
            "\u001b[0;31m---------------------------------------------------------------------------\u001b[0m",
            "\u001b[0;31mNameError\u001b[0m                                 Traceback (most recent call last)",
            "\u001b[0;32m<ipython-input-21-313a1769a8a5>\u001b[0m in \u001b[0;36m<module>\u001b[0;34m\u001b[0m\n\u001b[1;32m      1\u001b[0m \u001b[0;31m# Print string as error message\u001b[0m\u001b[0;34m\u001b[0m\u001b[0;34m\u001b[0m\u001b[0;34m\u001b[0m\u001b[0m\n\u001b[1;32m      2\u001b[0m \u001b[0;34m\u001b[0m\u001b[0m\n\u001b[0;32m----> 3\u001b[0;31m \u001b[0mfrint\u001b[0m\u001b[0;34m(\u001b[0m\u001b[0;34m\"Hello, Python!\"\u001b[0m\u001b[0;34m)\u001b[0m\u001b[0;34m\u001b[0m\u001b[0;34m\u001b[0m\u001b[0m\n\u001b[0m",
            "\u001b[0;31mNameError\u001b[0m: name 'frint' is not defined"
          ]
        }
      ],
      "source": [
        "# Print string as error message\n",
        "\n",
        "frint(\"Hello, Python!\")"
      ]
    },
    {
      "cell_type": "code",
      "execution_count": 22,
      "metadata": {
        "colab": {
          "base_uri": "https://localhost:8080/",
          "height": 131
        },
        "id": "DcR_SWgN0lfQ",
        "outputId": "a5559523-287f-480a-8b4a-91a3e3e19ca2"
      },
      "outputs": [
        {
          "ename": "SyntaxError",
          "evalue": "ignored",
          "output_type": "error",
          "traceback": [
            "\u001b[0;36m  File \u001b[0;32m\"<ipython-input-22-f0b5a635e1a2>\"\u001b[0;36m, line \u001b[0;32m3\u001b[0m\n\u001b[0;31m    print(\"Hello, Python!)\u001b[0m\n\u001b[0m                          ^\u001b[0m\n\u001b[0;31mSyntaxError\u001b[0m\u001b[0;31m:\u001b[0m EOL while scanning string literal\n"
          ]
        }
      ],
      "source": [
        "# Try to see built-in error message\n",
        "\n",
        "print(\"Hello, Python!)"
      ]
    },
    {
      "cell_type": "markdown",
      "metadata": {
        "id": "-0kmTuivvYuL"
      },
      "source": [
        "#Types of objects in Python\n"
      ]
    },
    {
      "cell_type": "code",
      "execution_count": null,
      "metadata": {
        "id": "jt6Y_4APvd9n"
      },
      "outputs": [],
      "source": [
        "# Integer\n",
        "15\n",
        "\n",
        "# Float\n",
        "2.14\n",
        "\n",
        "# String\n",
        "\"Hello, Python 101!\""
      ]
    },
    {
      "cell_type": "code",
      "execution_count": 7,
      "metadata": {
        "colab": {
          "base_uri": "https://localhost:8080/"
        },
        "id": "rDxvYRFZwPhD",
        "outputId": "38bc768a-235f-4e65-9d6b-e4057c935073"
      },
      "outputs": [
        {
          "data": {
            "text/plain": [
              "int"
            ]
          },
          "execution_count": 7,
          "metadata": {},
          "output_type": "execute_result"
        }
      ],
      "source": [
        "type(15)"
      ]
    },
    {
      "cell_type": "code",
      "execution_count": 8,
      "metadata": {
        "colab": {
          "base_uri": "https://localhost:8080/"
        },
        "id": "6UcClYFeweI_",
        "outputId": "6f96420c-a426-4109-cec8-b28d8681a7d5"
      },
      "outputs": [
        {
          "data": {
            "text/plain": [
              "float"
            ]
          },
          "execution_count": 8,
          "metadata": {},
          "output_type": "execute_result"
        }
      ],
      "source": [
        "type(2.5)"
      ]
    },
    {
      "cell_type": "code",
      "execution_count": 9,
      "metadata": {
        "colab": {
          "base_uri": "https://localhost:8080/"
        },
        "id": "_Le4o8fXwhfk",
        "outputId": "725cef9e-fb2d-45ac-8072-57d3c91e3caa"
      },
      "outputs": [
        {
          "data": {
            "text/plain": [
              "str"
            ]
          },
          "execution_count": 9,
          "metadata": {},
          "output_type": "execute_result"
        }
      ],
      "source": [
        "type(\"Hola Mundo!\")"
      ]
    },
    {
      "cell_type": "code",
      "execution_count": 10,
      "metadata": {
        "colab": {
          "base_uri": "https://localhost:8080/"
        },
        "id": "TA7wTxZIwmnc",
        "outputId": "e7c8b12f-51a8-4cc5-a31b-ce43d3852ac2"
      },
      "outputs": [
        {
          "data": {
            "text/plain": [
              "bool"
            ]
          },
          "execution_count": 10,
          "metadata": {},
          "output_type": "execute_result"
        }
      ],
      "source": [
        "type(True)"
      ]
    },
    {
      "cell_type": "code",
      "execution_count": 12,
      "metadata": {
        "colab": {
          "base_uri": "https://localhost:8080/",
          "height": 35
        },
        "id": "GguiJjfOwvRF",
        "outputId": "f42df3cd-eed7-4a4d-b221-7b1c02425552"
      },
      "outputs": [
        {
          "data": {
            "application/vnd.google.colaboratory.intrinsic+json": {
              "type": "string"
            },
            "text/plain": [
              "'1'"
            ]
          },
          "execution_count": 12,
          "metadata": {},
          "output_type": "execute_result"
        }
      ],
      "source": [
        "#Converting numbers to strings\n",
        "str(1)"
      ]
    },
    {
      "cell_type": "markdown",
      "metadata": {
        "id": "4ygRoKDR03So"
      },
      "source": [
        "# Converting from one object type to a different object type"
      ]
    },
    {
      "cell_type": "code",
      "execution_count": 23,
      "metadata": {
        "colab": {
          "base_uri": "https://localhost:8080/"
        },
        "id": "pnzRQXmQ0-mn",
        "outputId": "5973f729-5f7b-4559-b428-879859a51a36"
      },
      "outputs": [
        {
          "data": {
            "text/plain": [
              "2.0"
            ]
          },
          "execution_count": 23,
          "metadata": {},
          "output_type": "execute_result"
        }
      ],
      "source": [
        "# Convert 2 to a float\n",
        "\n",
        "float(2)"
      ]
    },
    {
      "cell_type": "code",
      "execution_count": 24,
      "metadata": {
        "colab": {
          "base_uri": "https://localhost:8080/"
        },
        "id": "Ied-Cr1F0-3R",
        "outputId": "c0624eef-1a24-4e14-9b7c-bb8d4e2704c0"
      },
      "outputs": [
        {
          "data": {
            "text/plain": [
              "float"
            ]
          },
          "execution_count": 24,
          "metadata": {},
          "output_type": "execute_result"
        }
      ],
      "source": [
        "# Convert integer 2 to a float and check its type\n",
        "\n",
        "type(float(2))"
      ]
    },
    {
      "cell_type": "code",
      "execution_count": 25,
      "metadata": {
        "colab": {
          "base_uri": "https://localhost:8080/"
        },
        "id": "9yliE-zU1Kje",
        "outputId": "52b5804d-e958-472d-d945-638dd9c84283"
      },
      "outputs": [
        {
          "data": {
            "text/plain": [
              "1"
            ]
          },
          "execution_count": 25,
          "metadata": {},
          "output_type": "execute_result"
        }
      ],
      "source": [
        "# Casting 1.1 to integer will result in loss of information\n",
        "\n",
        "int(1.1)"
      ]
    },
    {
      "cell_type": "code",
      "execution_count": 26,
      "metadata": {
        "colab": {
          "base_uri": "https://localhost:8080/"
        },
        "id": "xvRfOSiz1KYi",
        "outputId": "e338bfd4-0025-4e3c-883d-9ea77c324ea1"
      },
      "outputs": [
        {
          "data": {
            "text/plain": [
              "1"
            ]
          },
          "execution_count": 26,
          "metadata": {},
          "output_type": "execute_result"
        }
      ],
      "source": [
        "# Convert a string into an integer\n",
        "\n",
        "int('1')"
      ]
    },
    {
      "cell_type": "code",
      "execution_count": 27,
      "metadata": {
        "colab": {
          "base_uri": "https://localhost:8080/",
          "height": 200
        },
        "id": "gMQEOFCY1KMC",
        "outputId": "ed660b7c-0295-41c5-ee1e-8fb0a061e5fd"
      },
      "outputs": [
        {
          "ename": "ValueError",
          "evalue": "ignored",
          "output_type": "error",
          "traceback": [
            "\u001b[0;31m---------------------------------------------------------------------------\u001b[0m",
            "\u001b[0;31mValueError\u001b[0m                                Traceback (most recent call last)",
            "\u001b[0;32m<ipython-input-27-b78145d165c7>\u001b[0m in \u001b[0;36m<module>\u001b[0;34m\u001b[0m\n\u001b[1;32m      1\u001b[0m \u001b[0;31m# Convert a string into an integer with error\u001b[0m\u001b[0;34m\u001b[0m\u001b[0;34m\u001b[0m\u001b[0;34m\u001b[0m\u001b[0m\n\u001b[1;32m      2\u001b[0m \u001b[0;34m\u001b[0m\u001b[0m\n\u001b[0;32m----> 3\u001b[0;31m \u001b[0mint\u001b[0m\u001b[0;34m(\u001b[0m\u001b[0;34m'1 or 2 people'\u001b[0m\u001b[0;34m)\u001b[0m\u001b[0;34m\u001b[0m\u001b[0;34m\u001b[0m\u001b[0m\n\u001b[0m",
            "\u001b[0;31mValueError\u001b[0m: invalid literal for int() with base 10: '1 or 2 people'"
          ]
        }
      ],
      "source": [
        "# Convert a string into an integer with error\n",
        "\n",
        "int('1 or 2 people')"
      ]
    },
    {
      "cell_type": "code",
      "execution_count": 28,
      "metadata": {
        "colab": {
          "base_uri": "https://localhost:8080/"
        },
        "id": "LlkQbM-J1ZL-",
        "outputId": "708db3ad-e487-460b-9fe7-4c6ec73ac334"
      },
      "outputs": [
        {
          "data": {
            "text/plain": [
              "1.2"
            ]
          },
          "execution_count": 28,
          "metadata": {},
          "output_type": "execute_result"
        }
      ],
      "source": [
        "# Convert the string \"1.2\" into a float\n",
        "\n",
        "float('1.2')"
      ]
    },
    {
      "cell_type": "markdown",
      "metadata": {
        "id": "-5amRHYe1fnc"
      },
      "source": [
        "#Converting numbers to strings"
      ]
    },
    {
      "cell_type": "code",
      "execution_count": 29,
      "metadata": {
        "colab": {
          "base_uri": "https://localhost:8080/",
          "height": 35
        },
        "id": "D4nG-NUC1mCq",
        "outputId": "409a453b-faa8-4256-fb60-ddfd23aa2432"
      },
      "outputs": [
        {
          "data": {
            "application/vnd.google.colaboratory.intrinsic+json": {
              "type": "string"
            },
            "text/plain": [
              "'1'"
            ]
          },
          "execution_count": 29,
          "metadata": {},
          "output_type": "execute_result"
        }
      ],
      "source": [
        "# Convert an integer to a string\n",
        "\n",
        "str(1)"
      ]
    },
    {
      "cell_type": "code",
      "execution_count": 30,
      "metadata": {
        "colab": {
          "base_uri": "https://localhost:8080/",
          "height": 35
        },
        "id": "afr2aC3x1whQ",
        "outputId": "0e195920-f2cb-4e6b-91ee-0580026de4ef"
      },
      "outputs": [
        {
          "data": {
            "application/vnd.google.colaboratory.intrinsic+json": {
              "type": "string"
            },
            "text/plain": [
              "'1.2'"
            ]
          },
          "execution_count": 30,
          "metadata": {},
          "output_type": "execute_result"
        }
      ],
      "source": [
        "# Convert a float to a string\n",
        "\n",
        "str(1.2)"
      ]
    },
    {
      "cell_type": "markdown",
      "metadata": {
        "id": "e11K_J4w1_2R"
      },
      "source": [
        "#Exercise: Types\n"
      ]
    },
    {
      "cell_type": "code",
      "execution_count": 31,
      "metadata": {
        "colab": {
          "base_uri": "https://localhost:8080/"
        },
        "id": "WdlNFbvl2BQJ",
        "outputId": "2515f838-b366-4b21-a20d-f361ff610311"
      },
      "outputs": [
        {
          "data": {
            "text/plain": [
              "float"
            ]
          },
          "execution_count": 31,
          "metadata": {},
          "output_type": "execute_result"
        }
      ],
      "source": [
        "#What is the data type of the result of: 6 / 2?\n",
        "# Write your code below. Don't forget to press Shift+Enter to execute the cell\n",
        "type(6/2)\n",
        "#float"
      ]
    },
    {
      "cell_type": "code",
      "execution_count": 32,
      "metadata": {
        "colab": {
          "base_uri": "https://localhost:8080/"
        },
        "id": "DITfEdeg2CQa",
        "outputId": "44e96f85-8427-4fa6-fcb5-6e4c8f4fbbbc"
      },
      "outputs": [
        {
          "data": {
            "text/plain": [
              "int"
            ]
          },
          "execution_count": 32,
          "metadata": {},
          "output_type": "execute_result"
        }
      ],
      "source": [
        "#What is the type of the result of: 6 // 2? (Note the double slash //.)\n",
        "# Write your code below. Don't forget to press Shift+Enter to execute the cell\n",
        "type(6//2)\n",
        "#int"
      ]
    },
    {
      "cell_type": "markdown",
      "metadata": {
        "id": "X4vsLwXZ2zSO"
      },
      "source": [
        "#Expression and Variables\n"
      ]
    },
    {
      "cell_type": "markdown",
      "metadata": {
        "id": "oReVUTDG23FT"
      },
      "source": [
        "Expression"
      ]
    },
    {
      "cell_type": "code",
      "execution_count": 34,
      "metadata": {
        "colab": {
          "base_uri": "https://localhost:8080/"
        },
        "id": "ygDouA2J2B-u",
        "outputId": "bafe5ecf-0d5d-46db-e485-acc72aecff41"
      },
      "outputs": [
        {
          "data": {
            "text/plain": [
              "5.0"
            ]
          },
          "execution_count": 34,
          "metadata": {},
          "output_type": "execute_result"
        }
      ],
      "source": [
        "# Addition operation expression\n",
        "\n",
        "43 + 60 + 16 + 41\n",
        "\n",
        "# Subtraction operation expression\n",
        "\n",
        "50 - 60\n",
        "\n",
        "# Multiplication operation expression\n",
        "\n",
        "5 * 5\n",
        "\n",
        "# Division operation expression\n",
        "\n",
        "25 / 5\n",
        "# Integer division operation expression\n",
        "\n",
        "25 // 5"
      ]
    },
    {
      "cell_type": "markdown",
      "metadata": {
        "id": "CoJCRR2Z3O4Q"
      },
      "source": [
        "#Exercise: Expression"
      ]
    },
    {
      "cell_type": "code",
      "execution_count": 35,
      "metadata": {
        "colab": {
          "base_uri": "https://localhost:8080/"
        },
        "id": "fdImulEO2BtB",
        "outputId": "abd7e46b-ecb1-483d-fbdf-0164dc8e6136"
      },
      "outputs": [
        {
          "data": {
            "text/plain": [
              "2.6666666666666665"
            ]
          },
          "execution_count": 35,
          "metadata": {},
          "output_type": "execute_result"
        }
      ],
      "source": [
        "#Let's write an expression that calculates how many hours there are in 160 minutes:\n",
        "# Write your code below. Don't forget to press Shift+Enter to execute the cell\n",
        "160/60"
      ]
    },
    {
      "cell_type": "code",
      "execution_count": 36,
      "metadata": {
        "colab": {
          "base_uri": "https://localhost:8080/"
        },
        "id": "m4EGycVT3klV",
        "outputId": "1c3f4710-78be-4993-f1cd-5c2e8434beea"
      },
      "outputs": [
        {
          "data": {
            "text/plain": [
              "150"
            ]
          },
          "execution_count": 36,
          "metadata": {},
          "output_type": "execute_result"
        }
      ],
      "source": [
        "#Python follows well accepted mathematical conventions when evaluating mathematical expressions. In the following example, Python adds 30 to the result of the multiplication (i.e., 120).\n",
        "# Mathematical expression\n",
        "\n",
        "30 + 2 * 60"
      ]
    },
    {
      "cell_type": "code",
      "execution_count": 37,
      "metadata": {
        "colab": {
          "base_uri": "https://localhost:8080/"
        },
        "id": "M7ve__QO3qx9",
        "outputId": "2780f55f-a40e-49a3-b819-5019eaa24f6d"
      },
      "outputs": [
        {
          "data": {
            "text/plain": [
              "1920"
            ]
          },
          "execution_count": 37,
          "metadata": {},
          "output_type": "execute_result"
        }
      ],
      "source": [
        "#And just like mathematics, expressions enclosed in parentheses have priority. So the following multiplies 32 by 60.\n",
        "\n",
        "# Mathematical expression\n",
        "\n",
        "(30 + 2) * 60"
      ]
    },
    {
      "cell_type": "markdown",
      "metadata": {
        "id": "R81qqe594IKo"
      },
      "source": [
        "#Variables\n"
      ]
    },
    {
      "cell_type": "code",
      "execution_count": 46,
      "metadata": {
        "colab": {
          "base_uri": "https://localhost:8080/"
        },
        "id": "rmMATCRk366R",
        "outputId": "1c1120fa-fcf5-499a-9f5c-c6bdfff1d39b"
      },
      "outputs": [
        {
          "name": "stdout",
          "output_type": "stream",
          "text": [
            "160\n",
            "160 /60\n",
            "2.6666666666666665\n",
            "2.6666666666666665\n"
          ]
        }
      ],
      "source": [
        "# Store value into variable\n",
        "\n",
        "x = 43 + 60 + 16 + 41\n",
        "# Print out the value in variable\n",
        "print(x)\n",
        "# Use aother variable to store the result of the operation between variable and value\n",
        "y = x /60\n",
        "print(x,\"/60\")\n",
        "print(y)\n",
        "# Overwrite variable with new value\n",
        "x = x / 60\n",
        "print(x)"
      ]
    },
    {
      "cell_type": "markdown",
      "metadata": {
        "id": "RNCUv7it5anY"
      },
      "source": [
        "#Exercise: Expression and Variables in Python\n"
      ]
    },
    {
      "cell_type": "code",
      "execution_count": 47,
      "metadata": {
        "colab": {
          "base_uri": "https://localhost:8080/"
        },
        "id": "GV3la2e45mLf",
        "outputId": "d74aeaee-c365-475a-a5ed-38b381b61581"
      },
      "outputs": [
        {
          "name": "stdout",
          "output_type": "stream",
          "text": [
            "7\n"
          ]
        }
      ],
      "source": [
        "#What is the value of x where x = 3 + 2 * 2\n",
        "# Write your code below. Don't forget to press Shift+Enter to execute the cell\n",
        "x = 3 + 2 * 2\n",
        "print(x)"
      ]
    },
    {
      "cell_type": "code",
      "execution_count": 49,
      "metadata": {
        "colab": {
          "base_uri": "https://localhost:8080/"
        },
        "id": "PAj8GVFW5qef",
        "outputId": "cd763fcb-6a92-4a92-aefa-4cf7d4b25ca0"
      },
      "outputs": [
        {
          "data": {
            "text/plain": [
              "10"
            ]
          },
          "execution_count": 49,
          "metadata": {},
          "output_type": "execute_result"
        }
      ],
      "source": [
        "#What is the value of y where y = (3 + 2) * 2?\n",
        "# Write your code below. Don't forget to press Shift+Enter to execute the cell\n",
        "y = (3 + 2) * 2\n",
        "y"
      ]
    },
    {
      "cell_type": "code",
      "execution_count": 51,
      "metadata": {
        "colab": {
          "base_uri": "https://localhost:8080/"
        },
        "id": "jWkOSSBH525m",
        "outputId": "1ce42329-6294-4d95-c3e2-76c68876ea04"
      },
      "outputs": [
        {
          "data": {
            "text/plain": [
              "17"
            ]
          },
          "execution_count": 51,
          "metadata": {},
          "output_type": "execute_result"
        }
      ],
      "source": [
        "#What is the value of z where z = x + y?\n",
        "# Write your code below. Don't forget to press Shift+Enter to execute the cell\n",
        "z = x + y\n",
        "z"
      ]
    },
    {
      "cell_type": "markdown",
      "metadata": {
        "id": "GosLJRVT6QcC"
      },
      "source": [
        "# String Operations"
      ]
    },
    {
      "cell_type": "code",
      "execution_count": 58,
      "metadata": {
        "colab": {
          "base_uri": "https://localhost:8080/",
          "height": 35
        },
        "id": "LPpawwCB6Uw3",
        "outputId": "d6442c0c-552e-451d-e222-5f339db6665a"
      },
      "outputs": [
        {
          "data": {
            "application/vnd.google.colaboratory.intrinsic+json": {
              "type": "string"
            },
            "text/plain": [
              "'Michael Jackson'"
            ]
          },
          "execution_count": 58,
          "metadata": {},
          "output_type": "execute_result"
        }
      ],
      "source": [
        "# Assign string to variable\n",
        "\n",
        "name = \"Michael Jackson\"\n",
        "name"
      ]
    },
    {
      "cell_type": "code",
      "execution_count": 61,
      "metadata": {
        "colab": {
          "base_uri": "https://localhost:8080/"
        },
        "id": "A1O0p6K76qTz",
        "outputId": "556b536a-0c68-49f3-955d-7fa31a799107"
      },
      "outputs": [
        {
          "name": "stdout",
          "output_type": "stream",
          "text": [
            "M\n",
            "l\n"
          ]
        }
      ],
      "source": [
        "# Print the first element in the string\n",
        "\n",
        "print(name[0])\n",
        "# Print the element on index 6 in the string\n",
        "\n",
        "print(name[6])"
      ]
    },
    {
      "cell_type": "code",
      "execution_count": 62,
      "metadata": {
        "colab": {
          "base_uri": "https://localhost:8080/"
        },
        "id": "Dg2DH1KB6p-L",
        "outputId": "237e1efb-c3d1-4ec6-c0d4-1f5b5b5bf2bc"
      },
      "outputs": [
        {
          "name": "stdout",
          "output_type": "stream",
          "text": [
            "o\n"
          ]
        }
      ],
      "source": [
        "# Print the element on the 13th index in the string\n",
        "\n",
        "print(name[13])"
      ]
    },
    {
      "cell_type": "markdown",
      "metadata": {
        "id": "ReVi0IiJ7Mnn"
      },
      "source": [
        "Negative Indexing"
      ]
    },
    {
      "cell_type": "code",
      "execution_count": 63,
      "metadata": {
        "colab": {
          "base_uri": "https://localhost:8080/"
        },
        "id": "n0bbTMCG7ATq",
        "outputId": "5b6d3530-a159-48b4-b041-bf498d222188"
      },
      "outputs": [
        {
          "name": "stdout",
          "output_type": "stream",
          "text": [
            "n\n"
          ]
        }
      ],
      "source": [
        "# Print the last element in the string\n",
        "\n",
        "print(name[-1])"
      ]
    },
    {
      "cell_type": "code",
      "execution_count": 64,
      "metadata": {
        "colab": {
          "base_uri": "https://localhost:8080/"
        },
        "id": "fCm0qAuG7AQS",
        "outputId": "e3a715d0-2a05-43a1-fb59-abcdb9bcea99"
      },
      "outputs": [
        {
          "name": "stdout",
          "output_type": "stream",
          "text": [
            "M\n"
          ]
        }
      ],
      "source": [
        "# Print the first element in the string\n",
        "\n",
        "print(name[-15])"
      ]
    },
    {
      "cell_type": "code",
      "execution_count": 65,
      "metadata": {
        "colab": {
          "base_uri": "https://localhost:8080/"
        },
        "id": "VOOe7LBJ7YnL",
        "outputId": "a746ea6b-eb78-45ba-f63d-fdf2ec91d154"
      },
      "outputs": [
        {
          "data": {
            "text/plain": [
              "15"
            ]
          },
          "execution_count": 65,
          "metadata": {},
          "output_type": "execute_result"
        }
      ],
      "source": [
        "# Find the length of string\n",
        "\n",
        "len(\"Michael Jackson\")"
      ]
    },
    {
      "cell_type": "markdown",
      "metadata": {
        "id": "cLzdtK997jaX"
      },
      "source": [
        "slicing"
      ]
    },
    {
      "cell_type": "code",
      "execution_count": 66,
      "metadata": {
        "colab": {
          "base_uri": "https://localhost:8080/",
          "height": 35
        },
        "id": "TcVat5tG7k8B",
        "outputId": "392e01f8-46c6-4e33-890c-06f69e6f0e01"
      },
      "outputs": [
        {
          "data": {
            "application/vnd.google.colaboratory.intrinsic+json": {
              "type": "string"
            },
            "text/plain": [
              "'Mich'"
            ]
          },
          "execution_count": 66,
          "metadata": {},
          "output_type": "execute_result"
        }
      ],
      "source": [
        "# Take the slice on variable name with only index 0 to index 3\n",
        "\n",
        "name[0:4]"
      ]
    },
    {
      "cell_type": "code",
      "execution_count": 67,
      "metadata": {
        "colab": {
          "base_uri": "https://localhost:8080/",
          "height": 35
        },
        "id": "hQHwBYQU7v_F",
        "outputId": "26e6d957-57ed-4c45-d0b1-bae8cb6d79d3"
      },
      "outputs": [
        {
          "data": {
            "application/vnd.google.colaboratory.intrinsic+json": {
              "type": "string"
            },
            "text/plain": [
              "'Jack'"
            ]
          },
          "execution_count": 67,
          "metadata": {},
          "output_type": "execute_result"
        }
      ],
      "source": [
        "# Take the slice on variable name with only index 8 to index 11\n",
        "\n",
        "name[8:12]"
      ]
    },
    {
      "cell_type": "markdown",
      "metadata": {
        "id": "wWkNb5ed75mG"
      },
      "source": [
        "Stride"
      ]
    },
    {
      "cell_type": "code",
      "execution_count": 68,
      "metadata": {
        "colab": {
          "base_uri": "https://localhost:8080/",
          "height": 35
        },
        "id": "c1Q5eB_j70aa",
        "outputId": "332e0ffe-289f-4629-8898-529d6df7be09"
      },
      "outputs": [
        {
          "data": {
            "application/vnd.google.colaboratory.intrinsic+json": {
              "type": "string"
            },
            "text/plain": [
              "'McalJcsn'"
            ]
          },
          "execution_count": 68,
          "metadata": {},
          "output_type": "execute_result"
        }
      ],
      "source": [
        "# Get every second element. The elments on index 1, 3, 5 ...\n",
        "\n",
        "name[::2]"
      ]
    },
    {
      "cell_type": "code",
      "execution_count": 71,
      "metadata": {
        "colab": {
          "base_uri": "https://localhost:8080/",
          "height": 35
        },
        "id": "STAWvCYh8IFE",
        "outputId": "dcbcc99b-6533-47f2-d0cc-71e1a965ade5"
      },
      "outputs": [
        {
          "data": {
            "application/vnd.google.colaboratory.intrinsic+json": {
              "type": "string"
            },
            "text/plain": [
              "'Mca'"
            ]
          },
          "execution_count": 71,
          "metadata": {},
          "output_type": "execute_result"
        }
      ],
      "source": [
        "# Get every second element in the range from index 0 to index 4\n",
        "\n",
        "name[0:5:2]"
      ]
    },
    {
      "cell_type": "markdown",
      "metadata": {
        "id": "Ob2bBvlL8kTr"
      },
      "source": [
        "#Concatenate Strings"
      ]
    },
    {
      "cell_type": "code",
      "execution_count": 72,
      "metadata": {
        "colab": {
          "base_uri": "https://localhost:8080/",
          "height": 35
        },
        "id": "Ot2b_a468ap5",
        "outputId": "53e1057a-b823-4e12-f14d-7d562da3ed97"
      },
      "outputs": [
        {
          "data": {
            "application/vnd.google.colaboratory.intrinsic+json": {
              "type": "string"
            },
            "text/plain": [
              "'Michael Jacksonis the best'"
            ]
          },
          "execution_count": 72,
          "metadata": {},
          "output_type": "execute_result"
        }
      ],
      "source": [
        "# Concatenate two strings\n",
        "\n",
        "statement = name + \"is the best\"\n",
        "statement"
      ]
    },
    {
      "cell_type": "code",
      "execution_count": 73,
      "metadata": {
        "colab": {
          "base_uri": "https://localhost:8080/",
          "height": 35
        },
        "id": "pPTo99i28uBj",
        "outputId": "558674ac-6c53-4f80-df1b-d081bf1e0f52"
      },
      "outputs": [
        {
          "data": {
            "application/vnd.google.colaboratory.intrinsic+json": {
              "type": "string"
            },
            "text/plain": [
              "'Michael JacksonMichael JacksonMichael Jackson'"
            ]
          },
          "execution_count": 73,
          "metadata": {},
          "output_type": "execute_result"
        }
      ],
      "source": [
        "# Print the string for 3 times\n",
        "\n",
        "3 * \"Michael Jackson\""
      ]
    },
    {
      "cell_type": "code",
      "execution_count": 74,
      "metadata": {
        "colab": {
          "base_uri": "https://localhost:8080/",
          "height": 35
        },
        "id": "LU8GpzW88zA1",
        "outputId": "e7b69afc-fef8-4cca-fee5-46be8b9fb07a"
      },
      "outputs": [
        {
          "data": {
            "application/vnd.google.colaboratory.intrinsic+json": {
              "type": "string"
            },
            "text/plain": [
              "'Michael Jackson is the best'"
            ]
          },
          "execution_count": 74,
          "metadata": {},
          "output_type": "execute_result"
        }
      ],
      "source": [
        "# Concatenate strings\n",
        "\n",
        "name = \"Michael Jackson\"\n",
        "name = name + \" is the best\"\n",
        "name"
      ]
    },
    {
      "cell_type": "markdown",
      "metadata": {
        "id": "2fplMtuz9B3j"
      },
      "source": [
        "#Escape Sequences"
      ]
    },
    {
      "cell_type": "code",
      "execution_count": 75,
      "metadata": {
        "colab": {
          "base_uri": "https://localhost:8080/"
        },
        "id": "7uTmvVkA87ED",
        "outputId": "8766b9a0-d480-4ac2-b554-dd0bfffdcb67"
      },
      "outputs": [
        {
          "name": "stdout",
          "output_type": "stream",
          "text": [
            " Michael Jackson \n",
            " is the best\n",
            " Michael Jackson \t is the best\n",
            " Michael Jackson \\ is the best\n",
            " Michael Jackson \\ is the best\n"
          ]
        }
      ],
      "source": [
        "# New line escape sequence\n",
        "\n",
        "print(\" Michael Jackson \\n is the best\" )\n",
        "\n",
        "# Tab escape sequence\n",
        "\n",
        "print(\" Michael Jackson \\t is the best\" )\n",
        "\n",
        "\n",
        "# Include back slash in string\n",
        "\n",
        "print(\" Michael Jackson \\\\ is the best\" )\n",
        "\n",
        "# r will tell python that string will be display as raw string\n",
        "\n",
        "print(r\" Michael Jackson \\ is the best\" )"
      ]
    },
    {
      "cell_type": "markdown",
      "metadata": {
        "id": "1KXFqc1k9ct2"
      },
      "source": [
        "#String Operations"
      ]
    },
    {
      "cell_type": "code",
      "execution_count": 76,
      "metadata": {
        "colab": {
          "base_uri": "https://localhost:8080/"
        },
        "id": "4LLnJur49d90",
        "outputId": "aadbf931-308b-462c-b885-2e5224890d9e"
      },
      "outputs": [
        {
          "name": "stdout",
          "output_type": "stream",
          "text": [
            "before upper: Thriller is the sixth studio album\n",
            "After upper: THRILLER IS THE SIXTH STUDIO ALBUM\n"
          ]
        }
      ],
      "source": [
        "# Convert all the characters in string to upper case\n",
        "\n",
        "a = \"Thriller is the sixth studio album\"\n",
        "print(\"before upper:\", a)\n",
        "b = a.upper()\n",
        "print(\"After upper:\", b)"
      ]
    },
    {
      "cell_type": "code",
      "execution_count": 77,
      "metadata": {
        "colab": {
          "base_uri": "https://localhost:8080/",
          "height": 35
        },
        "id": "SOq1mt4V9mvh",
        "outputId": "880cd8a5-fc08-4630-958f-d284c6946691"
      },
      "outputs": [
        {
          "data": {
            "application/vnd.google.colaboratory.intrinsic+json": {
              "type": "string"
            },
            "text/plain": [
              "'Janet Jackson is the best'"
            ]
          },
          "execution_count": 77,
          "metadata": {},
          "output_type": "execute_result"
        }
      ],
      "source": [
        "# Replace the old substring with the new target substring is the segment has been found in the string\n",
        "\n",
        "a = \"Michael Jackson is the best\"\n",
        "b = a.replace('Michael', 'Janet')\n",
        "b"
      ]
    },
    {
      "cell_type": "code",
      "execution_count": 78,
      "metadata": {
        "colab": {
          "base_uri": "https://localhost:8080/"
        },
        "id": "DCeefEm39rd5",
        "outputId": "4e7a04f6-6ff4-4e55-b7fc-fef7ba883719"
      },
      "outputs": [
        {
          "data": {
            "text/plain": [
              "5"
            ]
          },
          "execution_count": 78,
          "metadata": {},
          "output_type": "execute_result"
        }
      ],
      "source": [
        "# Find the substring in the string. Only the index of the first elment of substring in string will be the output\n",
        "\n",
        "name = \"Michael Jackson\"\n",
        "name.find('el')"
      ]
    },
    {
      "cell_type": "code",
      "execution_count": 80,
      "metadata": {
        "colab": {
          "base_uri": "https://localhost:8080/"
        },
        "id": "vJqXzpVs9ywA",
        "outputId": "10a81fe2-f46a-4fd6-f3a5-5949c3513cd9"
      },
      "outputs": [
        {
          "data": {
            "text/plain": [
              "-1"
            ]
          },
          "execution_count": 80,
          "metadata": {},
          "output_type": "execute_result"
        }
      ],
      "source": [
        "# If cannot find the substring in the string\n",
        "\n",
        "name.find('Jasdfasdasdf')"
      ]
    },
    {
      "cell_type": "markdown",
      "metadata": {
        "id": "_k4qNXet-CSp"
      },
      "source": [
        "Quiz on Strings"
      ]
    },
    {
      "cell_type": "code",
      "execution_count": 82,
      "metadata": {
        "colab": {
          "base_uri": "https://localhost:8080/",
          "height": 35
        },
        "id": "0ao9v3sf91GC",
        "outputId": "801a1671-9fd6-4d69-ecd7-bff44cff7511"
      },
      "outputs": [
        {
          "data": {
            "application/vnd.google.colaboratory.intrinsic+json": {
              "type": "string"
            },
            "text/plain": [
              "'1'"
            ]
          },
          "execution_count": 82,
          "metadata": {},
          "output_type": "execute_result"
        }
      ],
      "source": [
        "#What is the value of the variable a after the following code is executed?\n",
        "# Write your code below and press Shift+Enter to execute \n",
        "\n",
        "a = \"1\"\n",
        "a\n",
        "#\"1\""
      ]
    },
    {
      "cell_type": "code",
      "execution_count": 83,
      "metadata": {
        "colab": {
          "base_uri": "https://localhost:8080/",
          "height": 35
        },
        "id": "3zK1nZRq-DCS",
        "outputId": "0e21709b-e19c-4665-9fc0-32f08cc116b1"
      },
      "outputs": [
        {
          "data": {
            "application/vnd.google.colaboratory.intrinsic+json": {
              "type": "string"
            },
            "text/plain": [
              "'2'"
            ]
          },
          "execution_count": 83,
          "metadata": {},
          "output_type": "execute_result"
        }
      ],
      "source": [
        "#What is the value of the variable b after the following code is executed?\n",
        "# Write your code below and press Shift+Enter to execute\n",
        "\n",
        "b = \"2\"\n",
        "b"
      ]
    },
    {
      "cell_type": "code",
      "execution_count": 85,
      "metadata": {
        "colab": {
          "base_uri": "https://localhost:8080/",
          "height": 35
        },
        "id": "15HHI1ID-qM1",
        "outputId": "bc276a91-7868-49b7-fd80-ecc091050910"
      },
      "outputs": [
        {
          "data": {
            "application/vnd.google.colaboratory.intrinsic+json": {
              "type": "string"
            },
            "text/plain": [
              "'12'"
            ]
          },
          "execution_count": 85,
          "metadata": {},
          "output_type": "execute_result"
        }
      ],
      "source": [
        "#What is the value of the variable c after the following code is executed?\n",
        "# Write your code below and press Shift+Enter to execute \n",
        "\n",
        "c = a + b\n",
        "c"
      ]
    },
    {
      "cell_type": "code",
      "execution_count": 93,
      "metadata": {
        "colab": {
          "base_uri": "https://localhost:8080/"
        },
        "id": "Ra-L-hKw-51t",
        "outputId": "355d5330-98bc-4911-cf7d-9640ef59b160"
      },
      "outputs": [
        {
          "name": "stdout",
          "output_type": "stream",
          "text": [
            "ABC\n"
          ]
        }
      ],
      "source": [
        "#Consider the variable d use slicing to print out the first three elements:\n",
        "# Write your code below and press Shift+Enter to execute\n",
        "\n",
        "d = \"ABCDEFG\"\n",
        "print(d[:3])\n"
      ]
    },
    {
      "cell_type": "code",
      "execution_count": 94,
      "metadata": {
        "colab": {
          "base_uri": "https://localhost:8080/"
        },
        "id": "ieNRKxNw_Z2u",
        "outputId": "fa0b4208-04be-4fae-fb8c-e19fc195a485"
      },
      "outputs": [
        {
          "name": "stdout",
          "output_type": "stream",
          "text": [
            "correct\n"
          ]
        }
      ],
      "source": [
        "#Use a stride value of 2 to print out every second character of the string e:\n",
        "# Write your code below and press Shift+Enter to execute\n",
        "\n",
        "e = 'clocrkr1e1c1t'\n",
        "print(e[::2])"
      ]
    },
    {
      "cell_type": "markdown",
      "metadata": {
        "id": "A-Nv1baoybEb"
      },
      "source": [
        "##QUIZZ 1"
      ]
    },
    {
      "cell_type": "code",
      "execution_count": 52,
      "metadata": {
        "colab": {
          "base_uri": "https://localhost:8080/"
        },
        "id": "_bvds2FCyMbc",
        "outputId": "441d49b5-8778-4815-df3d-589510ffd687"
      },
      "outputs": [
        {
          "data": {
            "text/plain": [
              "7"
            ]
          },
          "execution_count": 52,
          "metadata": {},
          "output_type": "execute_result"
        }
      ],
      "source": [
        "#What is the result of the following operation in Python:\n",
        "3 + 2 * 2"
      ]
    },
    {
      "cell_type": "code",
      "execution_count": 53,
      "metadata": {
        "colab": {
          "base_uri": "https://localhost:8080/"
        },
        "id": "VA1RB3WyyjsO",
        "outputId": "2a7ab01b-f378-4873-ce23-ed4c312c6efb"
      },
      "outputs": [
        {
          "name": "stdout",
          "output_type": "stream",
          "text": [
            "Li\n"
          ]
        }
      ],
      "source": [
        "#In Python, if you executed name = 'Lizz', what would be the output of print(name[0:2])?\n",
        "name = 'Lizz'\n",
        "print(name[0:2])"
      ]
    },
    {
      "cell_type": "code",
      "execution_count": 54,
      "metadata": {
        "colab": {
          "base_uri": "https://localhost:8080/"
        },
        "id": "v1Dg9qjay32F",
        "outputId": "59516e7a-ff5d-4b3a-8f3e-63142b49bb83"
      },
      "outputs": [
        {
          "name": "stdout",
          "output_type": "stream",
          "text": [
            "0246\n"
          ]
        }
      ],
      "source": [
        "#In Python, if you executed var = '01234567', what would be the result of print(var[::2])?\n",
        "\n",
        "var = '01234567'\n",
        "print(var[::2])"
      ]
    },
    {
      "cell_type": "code",
      "execution_count": 55,
      "metadata": {
        "colab": {
          "base_uri": "https://localhost:8080/",
          "height": 35
        },
        "id": "T3CUTyY2zL3p",
        "outputId": "66205a20-7091-4dc4-d704-445cbe6b22fd"
      },
      "outputs": [
        {
          "data": {
            "application/vnd.google.colaboratory.intrinsic+json": {
              "type": "string"
            },
            "text/plain": [
              "'12'"
            ]
          },
          "execution_count": 55,
          "metadata": {},
          "output_type": "execute_result"
        }
      ],
      "source": [
        "#In Python, what is the result of the following operation '1'+'2'?\n",
        "\n",
        "'1'+'2'"
      ]
    },
    {
      "cell_type": "code",
      "execution_count": 56,
      "metadata": {
        "colab": {
          "base_uri": "https://localhost:8080/",
          "height": 35
        },
        "id": "_UjUmu9azUBj",
        "outputId": "9038e5ae-0654-4489-d5c0-68836be0d23c"
      },
      "outputs": [
        {
          "data": {
            "application/vnd.google.colaboratory.intrinsic+json": {
              "type": "string"
            },
            "text/plain": [
              "'HELLO'"
            ]
          },
          "execution_count": 56,
          "metadata": {},
          "output_type": "execute_result"
        }
      ],
      "source": [
        "#Given myvar = 'hello', how would you convert myvar into uppercase?\n",
        "\n",
        "myvar = 'hello'\n",
        "myvar.upper()"
      ]
    }
  ],
  "metadata": {
    "colab": {
      "authorship_tag": "ABX9TyNeoaWne7Ysjfnz9H0QSdaE",
      "collapsed_sections": [],
      "include_colab_link": true,
      "provenance": []
    },
    "kernelspec": {
      "display_name": "Python 3",
      "name": "python3"
    },
    "language_info": {
      "name": "python"
    }
  },
  "nbformat": 4,
  "nbformat_minor": 0
}
