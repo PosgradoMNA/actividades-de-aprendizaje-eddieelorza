{
  "nbformat": 4,
  "nbformat_minor": 0,
  "metadata": {
    "colab": {
      "provenance": [],
      "authorship_tag": "ABX9TyNjQhNomhJ5UsLFtViKb2x5",
      "include_colab_link": true
    },
    "kernelspec": {
      "name": "python3",
      "display_name": "Python 3"
    },
    "language_info": {
      "name": "python"
    }
  },
  "cells": [
    {
      "cell_type": "markdown",
      "metadata": {
        "id": "view-in-github",
        "colab_type": "text"
      },
      "source": [
        "<a href=\"https://colab.research.google.com/github/PosgradoMNA/actividades-de-aprendizaje-eddieelorza/blob/main/modulo_4.ipynb\" target=\"_parent\"><img src=\"https://colab.research.google.com/assets/colab-badge.svg\" alt=\"Open In Colab\"/></a>"
      ]
    },
    {
      "cell_type": "markdown",
      "source": [
        "# **MODULO 4**"
      ],
      "metadata": {
        "id": "QLcwvwTO9455"
      }
    },
    {
      "cell_type": "markdown",
      "source": [
        "Eddie Guadalupe Elorza Ruiz | A01793547"
      ],
      "metadata": {
        "id": "UIGp2znjUOEK"
      }
    },
    {
      "cell_type": "markdown",
      "source": [
        "LEYENDO ARCHIVOS DE TEXTO"
      ],
      "metadata": {
        "id": "3AseDusa-rCZ"
      }
    },
    {
      "cell_type": "markdown",
      "source": [
        "El argumento de modo es opcional y el valor predeterminado es r. \n",
        "En este cuaderno solo cubrimos dos modos: \n",
        "* **r**: modo de lectura para leer archivos \n",
        "* **w**: modo de escritura para escribir archivos"
      ],
      "metadata": {
        "id": "fPuVENXa-5So"
      }
    },
    {
      "cell_type": "code",
      "execution_count": null,
      "metadata": {
        "id": "Gr4eb5AXeiX_"
      },
      "outputs": [],
      "source": [
        "# Read the Example1.txt\n",
        "example1 = \"Example1.txt\"\n",
        "file1 = open(example1, \"r\")"
      ]
    },
    {
      "cell_type": "markdown",
      "source": [],
      "metadata": {
        "id": "6kY5rdJV_Fqv"
      }
    },
    {
      "cell_type": "code",
      "source": [
        "# Print the path of file\n",
        "\n",
        "file1.name"
      ],
      "metadata": {
        "id": "e-dNMh17_boK"
      },
      "execution_count": null,
      "outputs": []
    },
    {
      "cell_type": "code",
      "source": [
        "# Read the file\n",
        "\n",
        "FileContent = file1.read()\n",
        "FileContent"
      ],
      "metadata": {
        "id": "8WykF5mi_cMN"
      },
      "execution_count": null,
      "outputs": []
    },
    {
      "cell_type": "code",
      "source": [
        "# Read the file\n",
        "\n",
        "FileContent = file1.read()\n",
        "FileContent"
      ],
      "metadata": {
        "id": "4CZOWF3b_g0t"
      },
      "execution_count": null,
      "outputs": []
    },
    {
      "cell_type": "code",
      "source": [
        "# Open file using with\n",
        "\n",
        "with open(example1, \"r\") as file1:\n",
        "    FileContent = file1.read()\n",
        "    print(FileContent)"
      ],
      "metadata": {
        "id": "ikrpelH-_msc"
      },
      "execution_count": null,
      "outputs": []
    },
    {
      "cell_type": "code",
      "source": [
        "# Verify if the file is closed\n",
        "\n",
        "file1.closed"
      ],
      "metadata": {
        "id": "60lcg42N_pCm"
      },
      "execution_count": null,
      "outputs": []
    },
    {
      "cell_type": "code",
      "source": [
        "# See the content of file\n",
        "\n",
        "print(FileContent)"
      ],
      "metadata": {
        "id": "N2xR_McT_ptq"
      },
      "execution_count": null,
      "outputs": []
    },
    {
      "cell_type": "code",
      "source": [
        "# Read first four characters\n",
        "\n",
        "with open(example1, \"r\") as file1:\n",
        "    print(file1.read(4))"
      ],
      "metadata": {
        "id": "gqJeYlRT_s27"
      },
      "execution_count": null,
      "outputs": []
    },
    {
      "cell_type": "code",
      "source": [
        "# Read certain amount of characters\n",
        "\n",
        "with open(example1, \"r\") as file1:\n",
        "    print(file1.read(4))\n",
        "    print(file1.read(4))\n",
        "    print(file1.read(7))\n",
        "    print(file1.read(15))"
      ],
      "metadata": {
        "id": "kfARMMC5_xOL"
      },
      "execution_count": null,
      "outputs": []
    },
    {
      "cell_type": "code",
      "source": [
        "# Read one line\n",
        "\n",
        "with open(example1, \"r\") as file1:\n",
        "    print(\"first line: \" + file1.readline())"
      ],
      "metadata": {
        "id": "kwGSB9UD_2e6"
      },
      "execution_count": null,
      "outputs": []
    },
    {
      "cell_type": "markdown",
      "source": [
        "ESCRITURA DE ARCHIVOS\n"
      ],
      "metadata": {
        "id": "oth97KmTAfcM"
      }
    },
    {
      "cell_type": "code",
      "source": [
        "# Write line to file\n",
        "exmp2 = 'Example2.txt'\n",
        "with open(exmp2, 'w') as writefile:\n",
        "    writefile.write(\"This is line A\")"
      ],
      "metadata": {
        "id": "e7Scz1w4AnCD"
      },
      "execution_count": null,
      "outputs": []
    },
    {
      "cell_type": "code",
      "source": [
        "# Read file\n",
        "\n",
        "with open(exmp2, 'r') as testwritefile:\n",
        "    print(testwritefile.read())"
      ],
      "metadata": {
        "id": "t30spPM5AraS"
      },
      "execution_count": null,
      "outputs": []
    },
    {
      "cell_type": "code",
      "source": [
        "# Write lines to file\n",
        "\n",
        "with open(exmp2, 'w') as writefile:\n",
        "    writefile.write(\"This is line A\\n\")\n",
        "    writefile.write(\"This is line B\\n\")"
      ],
      "metadata": {
        "id": "v8nG59gUAue9"
      },
      "execution_count": null,
      "outputs": []
    },
    {
      "cell_type": "code",
      "source": [
        "# Sample list of text\n",
        "\n",
        "Lines = [\"This is line A\\n\", \"This is line B\\n\", \"This is line C\\n\"]\n",
        "Lines"
      ],
      "metadata": {
        "id": "VDtlll20AyMr"
      },
      "execution_count": null,
      "outputs": []
    },
    {
      "cell_type": "code",
      "source": [
        "# Write the strings in the list to text file\n",
        "\n",
        "with open('Example2.txt', 'w') as writefile:\n",
        "    for line in Lines:\n",
        "        print(line)\n",
        "        writefile.write(line)"
      ],
      "metadata": {
        "id": "e_8tx3DVA0VF"
      },
      "execution_count": null,
      "outputs": []
    },
    {
      "cell_type": "code",
      "source": [
        "# Verify if writing to file is successfully executed\n",
        "\n",
        "with open('Example2.txt', 'r') as testwritefile:\n",
        "    print(testwritefile.read())"
      ],
      "metadata": {
        "id": "ltiZI2C9A2HI"
      },
      "execution_count": null,
      "outputs": []
    },
    {
      "cell_type": "code",
      "source": [
        "with open('Example2.txt', 'w') as writefile:\n",
        "    writefile.write(\"Overwrite\\n\")\n",
        "with open('Example2.txt', 'r') as testwritefile:\n",
        "    print(testwritefile.read())"
      ],
      "metadata": {
        "id": "8t5LYHVWA34Y"
      },
      "execution_count": null,
      "outputs": []
    },
    {
      "cell_type": "markdown",
      "source": [
        "AGREGAR ARCHIVOS"
      ],
      "metadata": {
        "id": "gLJ1zhEbBAL0"
      }
    },
    {
      "cell_type": "code",
      "source": [
        "# Write a new line to text file\n",
        "\n",
        "with open('Example2.txt', 'a') as testwritefile:\n",
        "    testwritefile.write(\"This is line C\\n\")\n",
        "    testwritefile.write(\"This is line D\\n\")\n",
        "    testwritefile.write(\"This is line E\\n\")\n"
      ],
      "metadata": {
        "id": "8LfzdcffBJDg"
      },
      "execution_count": null,
      "outputs": []
    },
    {
      "cell_type": "code",
      "source": [
        "# Verify if the new line is in the text file\n",
        "\n",
        "with open('Example2.txt', 'r') as testwritefile:\n",
        "    print(testwritefile.read())"
      ],
      "metadata": {
        "id": "YG_aGlkPBJy6"
      },
      "execution_count": null,
      "outputs": []
    },
    {
      "cell_type": "markdown",
      "source": [
        "IMPORTAR PANDAS"
      ],
      "metadata": {
        "id": "LKJokanYBxOD"
      }
    },
    {
      "cell_type": "code",
      "source": [
        "import pandas as pd\n",
        "\n",
        "df=pd.DataFrame({'a':[11,21,31],'b':[21,22,23]})\n"
      ],
      "metadata": {
        "id": "sVJ31YYXBJpw"
      },
      "execution_count": null,
      "outputs": []
    },
    {
      "cell_type": "code",
      "source": [
        "#Display the first three rows:\n",
        "df.head(3)"
      ],
      "metadata": {
        "id": "t3aJ6dSZB0me",
        "outputId": "2b1b8a13-77fd-4a48-e632-7ffe51370524",
        "colab": {
          "base_uri": "https://localhost:8080/",
          "height": 143
        }
      },
      "execution_count": null,
      "outputs": [
        {
          "output_type": "execute_result",
          "data": {
            "text/plain": [
              "    a   b\n",
              "0  11  21\n",
              "1  21  22\n",
              "2  31  23"
            ],
            "text/html": [
              "\n",
              "  <div id=\"df-a8f38d0f-1981-42fc-828b-a570716d9984\">\n",
              "    <div class=\"colab-df-container\">\n",
              "      <div>\n",
              "<style scoped>\n",
              "    .dataframe tbody tr th:only-of-type {\n",
              "        vertical-align: middle;\n",
              "    }\n",
              "\n",
              "    .dataframe tbody tr th {\n",
              "        vertical-align: top;\n",
              "    }\n",
              "\n",
              "    .dataframe thead th {\n",
              "        text-align: right;\n",
              "    }\n",
              "</style>\n",
              "<table border=\"1\" class=\"dataframe\">\n",
              "  <thead>\n",
              "    <tr style=\"text-align: right;\">\n",
              "      <th></th>\n",
              "      <th>a</th>\n",
              "      <th>b</th>\n",
              "    </tr>\n",
              "  </thead>\n",
              "  <tbody>\n",
              "    <tr>\n",
              "      <th>0</th>\n",
              "      <td>11</td>\n",
              "      <td>21</td>\n",
              "    </tr>\n",
              "    <tr>\n",
              "      <th>1</th>\n",
              "      <td>21</td>\n",
              "      <td>22</td>\n",
              "    </tr>\n",
              "    <tr>\n",
              "      <th>2</th>\n",
              "      <td>31</td>\n",
              "      <td>23</td>\n",
              "    </tr>\n",
              "  </tbody>\n",
              "</table>\n",
              "</div>\n",
              "      <button class=\"colab-df-convert\" onclick=\"convertToInteractive('df-a8f38d0f-1981-42fc-828b-a570716d9984')\"\n",
              "              title=\"Convert this dataframe to an interactive table.\"\n",
              "              style=\"display:none;\">\n",
              "        \n",
              "  <svg xmlns=\"http://www.w3.org/2000/svg\" height=\"24px\"viewBox=\"0 0 24 24\"\n",
              "       width=\"24px\">\n",
              "    <path d=\"M0 0h24v24H0V0z\" fill=\"none\"/>\n",
              "    <path d=\"M18.56 5.44l.94 2.06.94-2.06 2.06-.94-2.06-.94-.94-2.06-.94 2.06-2.06.94zm-11 1L8.5 8.5l.94-2.06 2.06-.94-2.06-.94L8.5 2.5l-.94 2.06-2.06.94zm10 10l.94 2.06.94-2.06 2.06-.94-2.06-.94-.94-2.06-.94 2.06-2.06.94z\"/><path d=\"M17.41 7.96l-1.37-1.37c-.4-.4-.92-.59-1.43-.59-.52 0-1.04.2-1.43.59L10.3 9.45l-7.72 7.72c-.78.78-.78 2.05 0 2.83L4 21.41c.39.39.9.59 1.41.59.51 0 1.02-.2 1.41-.59l7.78-7.78 2.81-2.81c.8-.78.8-2.07 0-2.86zM5.41 20L4 18.59l7.72-7.72 1.47 1.35L5.41 20z\"/>\n",
              "  </svg>\n",
              "      </button>\n",
              "      \n",
              "  <style>\n",
              "    .colab-df-container {\n",
              "      display:flex;\n",
              "      flex-wrap:wrap;\n",
              "      gap: 12px;\n",
              "    }\n",
              "\n",
              "    .colab-df-convert {\n",
              "      background-color: #E8F0FE;\n",
              "      border: none;\n",
              "      border-radius: 50%;\n",
              "      cursor: pointer;\n",
              "      display: none;\n",
              "      fill: #1967D2;\n",
              "      height: 32px;\n",
              "      padding: 0 0 0 0;\n",
              "      width: 32px;\n",
              "    }\n",
              "\n",
              "    .colab-df-convert:hover {\n",
              "      background-color: #E2EBFA;\n",
              "      box-shadow: 0px 1px 2px rgba(60, 64, 67, 0.3), 0px 1px 3px 1px rgba(60, 64, 67, 0.15);\n",
              "      fill: #174EA6;\n",
              "    }\n",
              "\n",
              "    [theme=dark] .colab-df-convert {\n",
              "      background-color: #3B4455;\n",
              "      fill: #D2E3FC;\n",
              "    }\n",
              "\n",
              "    [theme=dark] .colab-df-convert:hover {\n",
              "      background-color: #434B5C;\n",
              "      box-shadow: 0px 1px 3px 1px rgba(0, 0, 0, 0.15);\n",
              "      filter: drop-shadow(0px 1px 2px rgba(0, 0, 0, 0.3));\n",
              "      fill: #FFFFFF;\n",
              "    }\n",
              "  </style>\n",
              "\n",
              "      <script>\n",
              "        const buttonEl =\n",
              "          document.querySelector('#df-a8f38d0f-1981-42fc-828b-a570716d9984 button.colab-df-convert');\n",
              "        buttonEl.style.display =\n",
              "          google.colab.kernel.accessAllowed ? 'block' : 'none';\n",
              "\n",
              "        async function convertToInteractive(key) {\n",
              "          const element = document.querySelector('#df-a8f38d0f-1981-42fc-828b-a570716d9984');\n",
              "          const dataTable =\n",
              "            await google.colab.kernel.invokeFunction('convertToInteractive',\n",
              "                                                     [key], {});\n",
              "          if (!dataTable) return;\n",
              "\n",
              "          const docLinkHtml = 'Like what you see? Visit the ' +\n",
              "            '<a target=\"_blank\" href=https://colab.research.google.com/notebooks/data_table.ipynb>data table notebook</a>'\n",
              "            + ' to learn more about interactive tables.';\n",
              "          element.innerHTML = '';\n",
              "          dataTable['output_type'] = 'display_data';\n",
              "          await google.colab.output.renderOutput(dataTable, element);\n",
              "          const docLink = document.createElement('div');\n",
              "          docLink.innerHTML = docLinkHtml;\n",
              "          element.appendChild(docLink);\n",
              "        }\n",
              "      </script>\n",
              "    </div>\n",
              "  </div>\n",
              "  "
            ]
          },
          "metadata": {},
          "execution_count": 6
        }
      ]
    },
    {
      "cell_type": "code",
      "source": [
        "#Obtain column  'a' :\n",
        "df[\"a\"]"
      ],
      "metadata": {
        "id": "TlEziqpNB-cA",
        "outputId": "519301d4-1a59-47bc-ff67-632fb257b83a",
        "colab": {
          "base_uri": "https://localhost:8080/"
        }
      },
      "execution_count": null,
      "outputs": [
        {
          "output_type": "execute_result",
          "data": {
            "text/plain": [
              "0    11\n",
              "1    21\n",
              "2    31\n",
              "Name: a, dtype: int64"
            ]
          },
          "metadata": {},
          "execution_count": 7
        }
      ]
    },
    {
      "cell_type": "code",
      "source": [
        "import pandas as pd\n",
        "\n",
        "df=pd.DataFrame({'a':[1,2,1],'b':[1,1,1]})"
      ],
      "metadata": {
        "id": "eGAbzaIGDZDW"
      },
      "execution_count": null,
      "outputs": []
    },
    {
      "cell_type": "code",
      "source": [
        "#Find the unique values in column  'a' :\n",
        "df['a'].unique()"
      ],
      "metadata": {
        "id": "0i3rT6E7Db15",
        "outputId": "62b16eb2-8088-46e9-cbbb-c376d492e6ad",
        "colab": {
          "base_uri": "https://localhost:8080/"
        }
      },
      "execution_count": null,
      "outputs": [
        {
          "output_type": "execute_result",
          "data": {
            "text/plain": [
              "array([1, 2])"
            ]
          },
          "metadata": {},
          "execution_count": 13
        }
      ]
    },
    {
      "cell_type": "code",
      "source": [
        "#Return a dataframe with only the rows where column  a  is less than two:\n",
        "df[df['a']<2]"
      ],
      "metadata": {
        "id": "b8qw4D6TDgS2",
        "outputId": "2c3f36dc-a205-45be-827e-6532163222b5",
        "colab": {
          "base_uri": "https://localhost:8080/",
          "height": 112
        }
      },
      "execution_count": null,
      "outputs": [
        {
          "output_type": "execute_result",
          "data": {
            "text/plain": [
              "   a  b\n",
              "0  1  1\n",
              "2  1  1"
            ],
            "text/html": [
              "\n",
              "  <div id=\"df-3d59c0d2-0873-4d28-8a5f-1f78e53e812b\">\n",
              "    <div class=\"colab-df-container\">\n",
              "      <div>\n",
              "<style scoped>\n",
              "    .dataframe tbody tr th:only-of-type {\n",
              "        vertical-align: middle;\n",
              "    }\n",
              "\n",
              "    .dataframe tbody tr th {\n",
              "        vertical-align: top;\n",
              "    }\n",
              "\n",
              "    .dataframe thead th {\n",
              "        text-align: right;\n",
              "    }\n",
              "</style>\n",
              "<table border=\"1\" class=\"dataframe\">\n",
              "  <thead>\n",
              "    <tr style=\"text-align: right;\">\n",
              "      <th></th>\n",
              "      <th>a</th>\n",
              "      <th>b</th>\n",
              "    </tr>\n",
              "  </thead>\n",
              "  <tbody>\n",
              "    <tr>\n",
              "      <th>0</th>\n",
              "      <td>1</td>\n",
              "      <td>1</td>\n",
              "    </tr>\n",
              "    <tr>\n",
              "      <th>2</th>\n",
              "      <td>1</td>\n",
              "      <td>1</td>\n",
              "    </tr>\n",
              "  </tbody>\n",
              "</table>\n",
              "</div>\n",
              "      <button class=\"colab-df-convert\" onclick=\"convertToInteractive('df-3d59c0d2-0873-4d28-8a5f-1f78e53e812b')\"\n",
              "              title=\"Convert this dataframe to an interactive table.\"\n",
              "              style=\"display:none;\">\n",
              "        \n",
              "  <svg xmlns=\"http://www.w3.org/2000/svg\" height=\"24px\"viewBox=\"0 0 24 24\"\n",
              "       width=\"24px\">\n",
              "    <path d=\"M0 0h24v24H0V0z\" fill=\"none\"/>\n",
              "    <path d=\"M18.56 5.44l.94 2.06.94-2.06 2.06-.94-2.06-.94-.94-2.06-.94 2.06-2.06.94zm-11 1L8.5 8.5l.94-2.06 2.06-.94-2.06-.94L8.5 2.5l-.94 2.06-2.06.94zm10 10l.94 2.06.94-2.06 2.06-.94-2.06-.94-.94-2.06-.94 2.06-2.06.94z\"/><path d=\"M17.41 7.96l-1.37-1.37c-.4-.4-.92-.59-1.43-.59-.52 0-1.04.2-1.43.59L10.3 9.45l-7.72 7.72c-.78.78-.78 2.05 0 2.83L4 21.41c.39.39.9.59 1.41.59.51 0 1.02-.2 1.41-.59l7.78-7.78 2.81-2.81c.8-.78.8-2.07 0-2.86zM5.41 20L4 18.59l7.72-7.72 1.47 1.35L5.41 20z\"/>\n",
              "  </svg>\n",
              "      </button>\n",
              "      \n",
              "  <style>\n",
              "    .colab-df-container {\n",
              "      display:flex;\n",
              "      flex-wrap:wrap;\n",
              "      gap: 12px;\n",
              "    }\n",
              "\n",
              "    .colab-df-convert {\n",
              "      background-color: #E8F0FE;\n",
              "      border: none;\n",
              "      border-radius: 50%;\n",
              "      cursor: pointer;\n",
              "      display: none;\n",
              "      fill: #1967D2;\n",
              "      height: 32px;\n",
              "      padding: 0 0 0 0;\n",
              "      width: 32px;\n",
              "    }\n",
              "\n",
              "    .colab-df-convert:hover {\n",
              "      background-color: #E2EBFA;\n",
              "      box-shadow: 0px 1px 2px rgba(60, 64, 67, 0.3), 0px 1px 3px 1px rgba(60, 64, 67, 0.15);\n",
              "      fill: #174EA6;\n",
              "    }\n",
              "\n",
              "    [theme=dark] .colab-df-convert {\n",
              "      background-color: #3B4455;\n",
              "      fill: #D2E3FC;\n",
              "    }\n",
              "\n",
              "    [theme=dark] .colab-df-convert:hover {\n",
              "      background-color: #434B5C;\n",
              "      box-shadow: 0px 1px 3px 1px rgba(0, 0, 0, 0.15);\n",
              "      filter: drop-shadow(0px 1px 2px rgba(0, 0, 0, 0.3));\n",
              "      fill: #FFFFFF;\n",
              "    }\n",
              "  </style>\n",
              "\n",
              "      <script>\n",
              "        const buttonEl =\n",
              "          document.querySelector('#df-3d59c0d2-0873-4d28-8a5f-1f78e53e812b button.colab-df-convert');\n",
              "        buttonEl.style.display =\n",
              "          google.colab.kernel.accessAllowed ? 'block' : 'none';\n",
              "\n",
              "        async function convertToInteractive(key) {\n",
              "          const element = document.querySelector('#df-3d59c0d2-0873-4d28-8a5f-1f78e53e812b');\n",
              "          const dataTable =\n",
              "            await google.colab.kernel.invokeFunction('convertToInteractive',\n",
              "                                                     [key], {});\n",
              "          if (!dataTable) return;\n",
              "\n",
              "          const docLinkHtml = 'Like what you see? Visit the ' +\n",
              "            '<a target=\"_blank\" href=https://colab.research.google.com/notebooks/data_table.ipynb>data table notebook</a>'\n",
              "            + ' to learn more about interactive tables.';\n",
              "          element.innerHTML = '';\n",
              "          dataTable['output_type'] = 'display_data';\n",
              "          await google.colab.output.renderOutput(dataTable, element);\n",
              "          const docLink = document.createElement('div');\n",
              "          docLink.innerHTML = docLinkHtml;\n",
              "          element.appendChild(docLink);\n",
              "        }\n",
              "      </script>\n",
              "    </div>\n",
              "  </div>\n",
              "  "
            ]
          },
          "metadata": {},
          "execution_count": 14
        }
      ]
    },
    {
      "cell_type": "code",
      "source": [
        "df['a']==1 "
      ],
      "metadata": {
        "id": "KQJYVN-WEFyf",
        "outputId": "cb5012fc-e31e-46d1-dd17-5f23a342b7ea",
        "colab": {
          "base_uri": "https://localhost:8080/"
        }
      },
      "execution_count": null,
      "outputs": [
        {
          "output_type": "execute_result",
          "data": {
            "text/plain": [
              "0     True\n",
              "1    False\n",
              "2     True\n",
              "Name: a, dtype: bool"
            ]
          },
          "metadata": {},
          "execution_count": 15
        }
      ]
    },
    {
      "cell_type": "code",
      "source": [
        "# Dependency needed to install file \n",
        "\n",
        "# If running the notebook on your machine, else leave it commented\n",
        "# !pip install xlrd\n",
        "\n",
        "import piplite\n",
        "await piplite.install(['xlrd','openpyxl'])"
      ],
      "metadata": {
        "id": "tj042_p1FVfu"
      },
      "execution_count": null,
      "outputs": []
    },
    {
      "cell_type": "code",
      "source": [
        "# Import required library\n",
        "\n",
        "import pandas as pd"
      ],
      "metadata": {
        "id": "yAVA_jP3FWCH"
      },
      "execution_count": null,
      "outputs": []
    },
    {
      "cell_type": "code",
      "source": [
        "# Read data from CSV file\n",
        "\n",
        "# csv_path = 'https://cf-courses-data.s3.us.cloud-object-storage.appdomain.cloud/IBMDeveloperSkillsNetwork-PY0101EN-SkillsNetwork/labs/Module%204/data/TopSellingAlbums.csv'\n",
        "# df = pd.read_csv(csv_path)\n",
        "\n",
        "from pyodide.http import pyfetch\n",
        "import pandas as pd\n",
        "\n",
        "filename = \"https://cf-courses-data.s3.us.cloud-object-storage.appdomain.cloud/IBMDeveloperSkillsNetwork-PY0101EN-SkillsNetwork/labs/Module%204/data/TopSellingAlbums.csv\"\n",
        "\n",
        "async def download(url, filename):\n",
        "    response = await pyfetch(url)\n",
        "    if response.status == 200:\n",
        "        with open(filename, \"wb\") as f:\n",
        "            f.write(await response.bytes())\n",
        "\n",
        "\n",
        "await download(filename, \"TopSellingAlbums.csv\")\n",
        "df = pd.read_csv(\"TopSellingAlbums.csv\")"
      ],
      "metadata": {
        "id": "8WHQ3Pm7FfDd"
      },
      "execution_count": null,
      "outputs": []
    },
    {
      "cell_type": "code",
      "source": [
        "# Print first five rows of the dataframe\n",
        "\n",
        "df.head()"
      ],
      "metadata": {
        "id": "JfHsyU6BFfAK"
      },
      "execution_count": null,
      "outputs": []
    },
    {
      "cell_type": "code",
      "source": [
        "# Read data from Excel File and print the first five rows\n",
        "\n",
        "xlsx_path = 'https://s3-api.us-geo.objectstorage.softlayer.net/cf-courses-data/CognitiveClass/PY0101EN/Chapter%204/Datasets/TopSellingAlbums.xlsx'\n",
        "\n",
        "await download(xlsx_path, \"TopSellingAlbums.xlsx\")\n",
        "df = pd.read_excel(\"TopSellingAlbums.xlsx\")\n",
        "df.head()"
      ],
      "metadata": {
        "id": "PXCs_OFmFjSX"
      },
      "execution_count": null,
      "outputs": []
    },
    {
      "cell_type": "code",
      "source": [
        "# Access to the column Length\n",
        "\n",
        "x = df[['Length']]\n",
        "x"
      ],
      "metadata": {
        "id": "yN434VQ4FlpG"
      },
      "execution_count": null,
      "outputs": []
    },
    {
      "cell_type": "markdown",
      "source": [
        "Visualización de datos y acceso a datos"
      ],
      "metadata": {
        "id": "h8PDfRxMFxRf"
      }
    },
    {
      "cell_type": "code",
      "source": [
        "# Get the column as a series\n",
        "\n",
        "x = df['Length']\n",
        "x"
      ],
      "metadata": {
        "id": "m7xwDiz7FpmP"
      },
      "execution_count": null,
      "outputs": []
    },
    {
      "cell_type": "code",
      "source": [
        "# Get the column as a dataframe\n",
        "\n",
        "x = df[['Artist']]\n",
        "type(x)"
      ],
      "metadata": {
        "id": "FSgUyo4LF0WD"
      },
      "execution_count": null,
      "outputs": []
    },
    {
      "cell_type": "code",
      "source": [
        "# Access to multiple columns\n",
        "\n",
        "y = df[['Artist','Length','Genre']]\n",
        "y"
      ],
      "metadata": {
        "id": "jY_botjQF21p"
      },
      "execution_count": null,
      "outputs": []
    },
    {
      "cell_type": "code",
      "source": [
        "# Access the value on the first row and the first column\n",
        "\n",
        "df.iloc[0, 0]"
      ],
      "metadata": {
        "id": "umehOjK6F5Gl"
      },
      "execution_count": null,
      "outputs": []
    },
    {
      "cell_type": "markdown",
      "source": [
        "Quiz on DataFrame"
      ],
      "metadata": {
        "id": "J6rffFT5GBHd"
      }
    },
    {
      "cell_type": "code",
      "source": [
        "#Use a variable q to store the column Rating as a dataframe\n",
        "q = df[['Rating']]\n",
        "q"
      ],
      "metadata": {
        "id": "KU93inW2GBze"
      },
      "execution_count": null,
      "outputs": []
    },
    {
      "cell_type": "code",
      "source": [
        "#Assign the variable q to the dataframe that is made up of the column Released and Artist:\n",
        "q = df[['Released', 'Artist']]\n",
        "q\n",
        "    "
      ],
      "metadata": {
        "id": "VNsRIMfEGGh1"
      },
      "execution_count": null,
      "outputs": []
    },
    {
      "cell_type": "code",
      "source": [
        "#Access the 2nd row and the 3rd column of df:\n",
        "df.iloc[1, 2]"
      ],
      "metadata": {
        "id": "O-pRdHLkGLkf"
      },
      "execution_count": null,
      "outputs": []
    },
    {
      "cell_type": "code",
      "source": [
        "#Use the following list to convert the dataframe index df to \n",
        "#characters and assign it to df_new; find the element corresponding \n",
        "#to the row index a and column 'Artist'. Then select the rows a through d for the column 'Artist'\n",
        "\n",
        "\n",
        "new_index=['a','b','c','d','e','f','g','h']\n"
      ],
      "metadata": {
        "id": "iZ3kXRiJGQdQ"
      },
      "execution_count": null,
      "outputs": []
    }
  ]
}